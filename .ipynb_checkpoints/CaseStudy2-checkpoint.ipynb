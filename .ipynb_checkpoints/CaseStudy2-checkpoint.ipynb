{
 "cells": [
  {
   "cell_type": "code",
   "execution_count": 7,
   "id": "9324d7a0",
   "metadata": {},
   "outputs": [],
   "source": [
    "import pandas as pd\n",
    "import numpy as np\n",
    "import matplotlib.pyplot as plt\n",
    "import seaborn as sns\n",
    "\n",
    "%matplotlib inline"
   ]
  },
  {
   "cell_type": "code",
   "execution_count": 8,
   "id": "8e7fd4ac",
   "metadata": {},
   "outputs": [],
   "source": [
    "df = pd.read_csv('WA_Fn-UseC_-Telco-Customer-Churn.csv')"
   ]
  },
  {
   "cell_type": "code",
   "execution_count": 9,
   "id": "2c9794d9",
   "metadata": {},
   "outputs": [
    {
     "data": {
      "text/html": [
       "<div>\n",
       "<style scoped>\n",
       "    .dataframe tbody tr th:only-of-type {\n",
       "        vertical-align: middle;\n",
       "    }\n",
       "\n",
       "    .dataframe tbody tr th {\n",
       "        vertical-align: top;\n",
       "    }\n",
       "\n",
       "    .dataframe thead th {\n",
       "        text-align: right;\n",
       "    }\n",
       "</style>\n",
       "<table border=\"1\" class=\"dataframe\">\n",
       "  <thead>\n",
       "    <tr style=\"text-align: right;\">\n",
       "      <th></th>\n",
       "      <th>customerID</th>\n",
       "      <th>gender</th>\n",
       "      <th>SeniorCitizen</th>\n",
       "      <th>Partner</th>\n",
       "      <th>Dependents</th>\n",
       "      <th>tenure</th>\n",
       "      <th>PhoneService</th>\n",
       "      <th>MultipleLines</th>\n",
       "      <th>InternetService</th>\n",
       "      <th>OnlineSecurity</th>\n",
       "      <th>...</th>\n",
       "      <th>DeviceProtection</th>\n",
       "      <th>TechSupport</th>\n",
       "      <th>StreamingTV</th>\n",
       "      <th>StreamingMovies</th>\n",
       "      <th>Contract</th>\n",
       "      <th>PaperlessBilling</th>\n",
       "      <th>PaymentMethod</th>\n",
       "      <th>MonthlyCharges</th>\n",
       "      <th>TotalCharges</th>\n",
       "      <th>Churn</th>\n",
       "    </tr>\n",
       "  </thead>\n",
       "  <tbody>\n",
       "    <tr>\n",
       "      <th>0</th>\n",
       "      <td>7590-VHVEG</td>\n",
       "      <td>Female</td>\n",
       "      <td>0</td>\n",
       "      <td>Yes</td>\n",
       "      <td>No</td>\n",
       "      <td>1</td>\n",
       "      <td>No</td>\n",
       "      <td>No phone service</td>\n",
       "      <td>DSL</td>\n",
       "      <td>No</td>\n",
       "      <td>...</td>\n",
       "      <td>No</td>\n",
       "      <td>No</td>\n",
       "      <td>No</td>\n",
       "      <td>No</td>\n",
       "      <td>Month-to-month</td>\n",
       "      <td>Yes</td>\n",
       "      <td>Electronic check</td>\n",
       "      <td>29.85</td>\n",
       "      <td>29.85</td>\n",
       "      <td>No</td>\n",
       "    </tr>\n",
       "    <tr>\n",
       "      <th>1</th>\n",
       "      <td>5575-GNVDE</td>\n",
       "      <td>Male</td>\n",
       "      <td>0</td>\n",
       "      <td>No</td>\n",
       "      <td>No</td>\n",
       "      <td>34</td>\n",
       "      <td>Yes</td>\n",
       "      <td>No</td>\n",
       "      <td>DSL</td>\n",
       "      <td>Yes</td>\n",
       "      <td>...</td>\n",
       "      <td>Yes</td>\n",
       "      <td>No</td>\n",
       "      <td>No</td>\n",
       "      <td>No</td>\n",
       "      <td>One year</td>\n",
       "      <td>No</td>\n",
       "      <td>Mailed check</td>\n",
       "      <td>56.95</td>\n",
       "      <td>1889.5</td>\n",
       "      <td>No</td>\n",
       "    </tr>\n",
       "    <tr>\n",
       "      <th>2</th>\n",
       "      <td>3668-QPYBK</td>\n",
       "      <td>Male</td>\n",
       "      <td>0</td>\n",
       "      <td>No</td>\n",
       "      <td>No</td>\n",
       "      <td>2</td>\n",
       "      <td>Yes</td>\n",
       "      <td>No</td>\n",
       "      <td>DSL</td>\n",
       "      <td>Yes</td>\n",
       "      <td>...</td>\n",
       "      <td>No</td>\n",
       "      <td>No</td>\n",
       "      <td>No</td>\n",
       "      <td>No</td>\n",
       "      <td>Month-to-month</td>\n",
       "      <td>Yes</td>\n",
       "      <td>Mailed check</td>\n",
       "      <td>53.85</td>\n",
       "      <td>108.15</td>\n",
       "      <td>Yes</td>\n",
       "    </tr>\n",
       "    <tr>\n",
       "      <th>3</th>\n",
       "      <td>7795-CFOCW</td>\n",
       "      <td>Male</td>\n",
       "      <td>0</td>\n",
       "      <td>No</td>\n",
       "      <td>No</td>\n",
       "      <td>45</td>\n",
       "      <td>No</td>\n",
       "      <td>No phone service</td>\n",
       "      <td>DSL</td>\n",
       "      <td>Yes</td>\n",
       "      <td>...</td>\n",
       "      <td>Yes</td>\n",
       "      <td>Yes</td>\n",
       "      <td>No</td>\n",
       "      <td>No</td>\n",
       "      <td>One year</td>\n",
       "      <td>No</td>\n",
       "      <td>Bank transfer (automatic)</td>\n",
       "      <td>42.30</td>\n",
       "      <td>1840.75</td>\n",
       "      <td>No</td>\n",
       "    </tr>\n",
       "    <tr>\n",
       "      <th>4</th>\n",
       "      <td>9237-HQITU</td>\n",
       "      <td>Female</td>\n",
       "      <td>0</td>\n",
       "      <td>No</td>\n",
       "      <td>No</td>\n",
       "      <td>2</td>\n",
       "      <td>Yes</td>\n",
       "      <td>No</td>\n",
       "      <td>Fiber optic</td>\n",
       "      <td>No</td>\n",
       "      <td>...</td>\n",
       "      <td>No</td>\n",
       "      <td>No</td>\n",
       "      <td>No</td>\n",
       "      <td>No</td>\n",
       "      <td>Month-to-month</td>\n",
       "      <td>Yes</td>\n",
       "      <td>Electronic check</td>\n",
       "      <td>70.70</td>\n",
       "      <td>151.65</td>\n",
       "      <td>Yes</td>\n",
       "    </tr>\n",
       "  </tbody>\n",
       "</table>\n",
       "<p>5 rows × 21 columns</p>\n",
       "</div>"
      ],
      "text/plain": [
       "   customerID  gender  SeniorCitizen Partner Dependents  tenure PhoneService  \\\n",
       "0  7590-VHVEG  Female              0     Yes         No       1           No   \n",
       "1  5575-GNVDE    Male              0      No         No      34          Yes   \n",
       "2  3668-QPYBK    Male              0      No         No       2          Yes   \n",
       "3  7795-CFOCW    Male              0      No         No      45           No   \n",
       "4  9237-HQITU  Female              0      No         No       2          Yes   \n",
       "\n",
       "      MultipleLines InternetService OnlineSecurity  ... DeviceProtection  \\\n",
       "0  No phone service             DSL             No  ...               No   \n",
       "1                No             DSL            Yes  ...              Yes   \n",
       "2                No             DSL            Yes  ...               No   \n",
       "3  No phone service             DSL            Yes  ...              Yes   \n",
       "4                No     Fiber optic             No  ...               No   \n",
       "\n",
       "  TechSupport StreamingTV StreamingMovies        Contract PaperlessBilling  \\\n",
       "0          No          No              No  Month-to-month              Yes   \n",
       "1          No          No              No        One year               No   \n",
       "2          No          No              No  Month-to-month              Yes   \n",
       "3         Yes          No              No        One year               No   \n",
       "4          No          No              No  Month-to-month              Yes   \n",
       "\n",
       "               PaymentMethod MonthlyCharges  TotalCharges Churn  \n",
       "0           Electronic check          29.85         29.85    No  \n",
       "1               Mailed check          56.95        1889.5    No  \n",
       "2               Mailed check          53.85        108.15   Yes  \n",
       "3  Bank transfer (automatic)          42.30       1840.75    No  \n",
       "4           Electronic check          70.70        151.65   Yes  \n",
       "\n",
       "[5 rows x 21 columns]"
      ]
     },
     "execution_count": 9,
     "metadata": {},
     "output_type": "execute_result"
    }
   ],
   "source": [
    "df.head()"
   ]
  },
  {
   "cell_type": "code",
   "execution_count": 10,
   "id": "da7b43dc",
   "metadata": {},
   "outputs": [
    {
     "data": {
      "text/plain": [
       "0"
      ]
     },
     "execution_count": 10,
     "metadata": {},
     "output_type": "execute_result"
    }
   ],
   "source": [
    "df.duplicated().sum()"
   ]
  },
  {
   "cell_type": "code",
   "execution_count": 11,
   "id": "fbc4f8fd",
   "metadata": {},
   "outputs": [
    {
     "data": {
      "text/plain": [
       "0"
      ]
     },
     "execution_count": 11,
     "metadata": {},
     "output_type": "execute_result"
    }
   ],
   "source": [
    "df.isnull().sum().sum()"
   ]
  },
  {
   "cell_type": "code",
   "execution_count": 12,
   "id": "424d6300",
   "metadata": {},
   "outputs": [
    {
     "name": "stdout",
     "output_type": "stream",
     "text": [
      "<class 'pandas.core.frame.DataFrame'>\n",
      "RangeIndex: 7043 entries, 0 to 7042\n",
      "Data columns (total 21 columns):\n",
      " #   Column            Non-Null Count  Dtype  \n",
      "---  ------            --------------  -----  \n",
      " 0   customerID        7043 non-null   object \n",
      " 1   gender            7043 non-null   object \n",
      " 2   SeniorCitizen     7043 non-null   int64  \n",
      " 3   Partner           7043 non-null   object \n",
      " 4   Dependents        7043 non-null   object \n",
      " 5   tenure            7043 non-null   int64  \n",
      " 6   PhoneService      7043 non-null   object \n",
      " 7   MultipleLines     7043 non-null   object \n",
      " 8   InternetService   7043 non-null   object \n",
      " 9   OnlineSecurity    7043 non-null   object \n",
      " 10  OnlineBackup      7043 non-null   object \n",
      " 11  DeviceProtection  7043 non-null   object \n",
      " 12  TechSupport       7043 non-null   object \n",
      " 13  StreamingTV       7043 non-null   object \n",
      " 14  StreamingMovies   7043 non-null   object \n",
      " 15  Contract          7043 non-null   object \n",
      " 16  PaperlessBilling  7043 non-null   object \n",
      " 17  PaymentMethod     7043 non-null   object \n",
      " 18  MonthlyCharges    7043 non-null   float64\n",
      " 19  TotalCharges      7043 non-null   object \n",
      " 20  Churn             7043 non-null   object \n",
      "dtypes: float64(1), int64(2), object(18)\n",
      "memory usage: 1.1+ MB\n"
     ]
    }
   ],
   "source": [
    "df.info()"
   ]
  },
  {
   "cell_type": "code",
   "execution_count": 13,
   "id": "78e412a7",
   "metadata": {},
   "outputs": [
    {
     "data": {
      "text/plain": [
       "0945-TSONX    1\n",
       "8149-RSOUN    1\n",
       "8931-GJJIQ    1\n",
       "8909-BOLNL    1\n",
       "8092-NLTGF    1\n",
       "             ..\n",
       "5117-IFGPS    1\n",
       "1307-ATKGB    1\n",
       "3389-YGYAI    1\n",
       "6603-YRDCJ    1\n",
       "6527-PZFPV    1\n",
       "Name: customerID, Length: 7043, dtype: int64"
      ]
     },
     "execution_count": 13,
     "metadata": {},
     "output_type": "execute_result"
    }
   ],
   "source": [
    "df.customerID.value_counts()"
   ]
  },
  {
   "cell_type": "code",
   "execution_count": 14,
   "id": "c5abcc83",
   "metadata": {},
   "outputs": [
    {
     "data": {
      "text/plain": [
       "Male      3555\n",
       "Female    3488\n",
       "Name: gender, dtype: int64"
      ]
     },
     "execution_count": 14,
     "metadata": {},
     "output_type": "execute_result"
    }
   ],
   "source": [
    "df.gender.value_counts()"
   ]
  },
  {
   "cell_type": "code",
   "execution_count": 15,
   "id": "3c4b62ce",
   "metadata": {},
   "outputs": [
    {
     "data": {
      "text/plain": [
       "customerID          7043\n",
       "gender                 2\n",
       "SeniorCitizen          2\n",
       "Partner                2\n",
       "Dependents             2\n",
       "tenure                73\n",
       "PhoneService           2\n",
       "MultipleLines          3\n",
       "InternetService        3\n",
       "OnlineSecurity         3\n",
       "OnlineBackup           3\n",
       "DeviceProtection       3\n",
       "TechSupport            3\n",
       "StreamingTV            3\n",
       "StreamingMovies        3\n",
       "Contract               3\n",
       "PaperlessBilling       2\n",
       "PaymentMethod          4\n",
       "MonthlyCharges      1585\n",
       "TotalCharges        6531\n",
       "Churn                  2\n",
       "dtype: int64"
      ]
     },
     "execution_count": 15,
     "metadata": {},
     "output_type": "execute_result"
    }
   ],
   "source": [
    "df.nunique()"
   ]
  },
  {
   "cell_type": "code",
   "execution_count": 16,
   "id": "08151e75",
   "metadata": {},
   "outputs": [
    {
     "data": {
      "text/plain": [
       "No                  3390\n",
       "Yes                 2971\n",
       "No phone service     682\n",
       "Name: MultipleLines, dtype: int64"
      ]
     },
     "execution_count": 16,
     "metadata": {},
     "output_type": "execute_result"
    }
   ],
   "source": [
    "# replacement\n",
    "df.MultipleLines.value_counts()"
   ]
  },
  {
   "cell_type": "code",
   "execution_count": 17,
   "id": "6beaea28",
   "metadata": {},
   "outputs": [
    {
     "data": {
      "text/plain": [
       "Fiber optic    3096\n",
       "DSL            2421\n",
       "No             1526\n",
       "Name: InternetService, dtype: int64"
      ]
     },
     "execution_count": 17,
     "metadata": {},
     "output_type": "execute_result"
    }
   ],
   "source": [
    "df.InternetService.value_counts()"
   ]
  },
  {
   "cell_type": "code",
   "execution_count": 18,
   "id": "184e70dc",
   "metadata": {},
   "outputs": [
    {
     "data": {
      "text/plain": [
       "No                     3498\n",
       "Yes                    2019\n",
       "No internet service    1526\n",
       "Name: OnlineSecurity, dtype: int64"
      ]
     },
     "execution_count": 18,
     "metadata": {},
     "output_type": "execute_result"
    }
   ],
   "source": [
    "df.OnlineSecurity.value_counts()"
   ]
  },
  {
   "cell_type": "code",
   "execution_count": 19,
   "id": "a33041b4",
   "metadata": {},
   "outputs": [
    {
     "data": {
      "text/plain": [
       "No                     3088\n",
       "Yes                    2429\n",
       "No internet service    1526\n",
       "Name: OnlineBackup, dtype: int64"
      ]
     },
     "execution_count": 19,
     "metadata": {},
     "output_type": "execute_result"
    }
   ],
   "source": [
    "df.OnlineBackup.value_counts()"
   ]
  },
  {
   "cell_type": "code",
   "execution_count": 20,
   "id": "b4f41da0",
   "metadata": {},
   "outputs": [
    {
     "data": {
      "text/plain": [
       "No                     3095\n",
       "Yes                    2422\n",
       "No internet service    1526\n",
       "Name: DeviceProtection, dtype: int64"
      ]
     },
     "execution_count": 20,
     "metadata": {},
     "output_type": "execute_result"
    }
   ],
   "source": [
    "df.DeviceProtection.value_counts()"
   ]
  },
  {
   "cell_type": "code",
   "execution_count": 21,
   "id": "7ab6eb83",
   "metadata": {},
   "outputs": [
    {
     "data": {
      "text/plain": [
       "No                     3473\n",
       "Yes                    2044\n",
       "No internet service    1526\n",
       "Name: TechSupport, dtype: int64"
      ]
     },
     "execution_count": 21,
     "metadata": {},
     "output_type": "execute_result"
    }
   ],
   "source": [
    "df.TechSupport.value_counts()"
   ]
  },
  {
   "cell_type": "code",
   "execution_count": 22,
   "id": "745307cb",
   "metadata": {},
   "outputs": [
    {
     "data": {
      "text/html": [
       "<div>\n",
       "<style scoped>\n",
       "    .dataframe tbody tr th:only-of-type {\n",
       "        vertical-align: middle;\n",
       "    }\n",
       "\n",
       "    .dataframe tbody tr th {\n",
       "        vertical-align: top;\n",
       "    }\n",
       "\n",
       "    .dataframe thead th {\n",
       "        text-align: right;\n",
       "    }\n",
       "</style>\n",
       "<table border=\"1\" class=\"dataframe\">\n",
       "  <thead>\n",
       "    <tr style=\"text-align: right;\">\n",
       "      <th></th>\n",
       "      <th>customerID</th>\n",
       "      <th>gender</th>\n",
       "      <th>SeniorCitizen</th>\n",
       "      <th>Partner</th>\n",
       "      <th>Dependents</th>\n",
       "      <th>tenure</th>\n",
       "      <th>PhoneService</th>\n",
       "      <th>MultipleLines</th>\n",
       "      <th>InternetService</th>\n",
       "      <th>OnlineSecurity</th>\n",
       "      <th>...</th>\n",
       "      <th>DeviceProtection</th>\n",
       "      <th>TechSupport</th>\n",
       "      <th>StreamingTV</th>\n",
       "      <th>StreamingMovies</th>\n",
       "      <th>Contract</th>\n",
       "      <th>PaperlessBilling</th>\n",
       "      <th>PaymentMethod</th>\n",
       "      <th>MonthlyCharges</th>\n",
       "      <th>TotalCharges</th>\n",
       "      <th>Churn</th>\n",
       "    </tr>\n",
       "  </thead>\n",
       "  <tbody>\n",
       "    <tr>\n",
       "      <th>0</th>\n",
       "      <td>7590-VHVEG</td>\n",
       "      <td>Female</td>\n",
       "      <td>0</td>\n",
       "      <td>Yes</td>\n",
       "      <td>No</td>\n",
       "      <td>1</td>\n",
       "      <td>No</td>\n",
       "      <td>No phone service</td>\n",
       "      <td>DSL</td>\n",
       "      <td>No</td>\n",
       "      <td>...</td>\n",
       "      <td>No</td>\n",
       "      <td>No</td>\n",
       "      <td>No</td>\n",
       "      <td>No</td>\n",
       "      <td>Month-to-month</td>\n",
       "      <td>Yes</td>\n",
       "      <td>Electronic check</td>\n",
       "      <td>29.85</td>\n",
       "      <td>29.85</td>\n",
       "      <td>No</td>\n",
       "    </tr>\n",
       "    <tr>\n",
       "      <th>3</th>\n",
       "      <td>7795-CFOCW</td>\n",
       "      <td>Male</td>\n",
       "      <td>0</td>\n",
       "      <td>No</td>\n",
       "      <td>No</td>\n",
       "      <td>45</td>\n",
       "      <td>No</td>\n",
       "      <td>No phone service</td>\n",
       "      <td>DSL</td>\n",
       "      <td>Yes</td>\n",
       "      <td>...</td>\n",
       "      <td>Yes</td>\n",
       "      <td>Yes</td>\n",
       "      <td>No</td>\n",
       "      <td>No</td>\n",
       "      <td>One year</td>\n",
       "      <td>No</td>\n",
       "      <td>Bank transfer (automatic)</td>\n",
       "      <td>42.30</td>\n",
       "      <td>1840.75</td>\n",
       "      <td>No</td>\n",
       "    </tr>\n",
       "    <tr>\n",
       "      <th>7</th>\n",
       "      <td>6713-OKOMC</td>\n",
       "      <td>Female</td>\n",
       "      <td>0</td>\n",
       "      <td>No</td>\n",
       "      <td>No</td>\n",
       "      <td>10</td>\n",
       "      <td>No</td>\n",
       "      <td>No phone service</td>\n",
       "      <td>DSL</td>\n",
       "      <td>Yes</td>\n",
       "      <td>...</td>\n",
       "      <td>No</td>\n",
       "      <td>No</td>\n",
       "      <td>No</td>\n",
       "      <td>No</td>\n",
       "      <td>Month-to-month</td>\n",
       "      <td>No</td>\n",
       "      <td>Mailed check</td>\n",
       "      <td>29.75</td>\n",
       "      <td>301.9</td>\n",
       "      <td>No</td>\n",
       "    </tr>\n",
       "    <tr>\n",
       "      <th>20</th>\n",
       "      <td>8779-QRDMV</td>\n",
       "      <td>Male</td>\n",
       "      <td>1</td>\n",
       "      <td>No</td>\n",
       "      <td>No</td>\n",
       "      <td>1</td>\n",
       "      <td>No</td>\n",
       "      <td>No phone service</td>\n",
       "      <td>DSL</td>\n",
       "      <td>No</td>\n",
       "      <td>...</td>\n",
       "      <td>Yes</td>\n",
       "      <td>No</td>\n",
       "      <td>No</td>\n",
       "      <td>Yes</td>\n",
       "      <td>Month-to-month</td>\n",
       "      <td>Yes</td>\n",
       "      <td>Electronic check</td>\n",
       "      <td>39.65</td>\n",
       "      <td>39.65</td>\n",
       "      <td>Yes</td>\n",
       "    </tr>\n",
       "    <tr>\n",
       "      <th>27</th>\n",
       "      <td>8665-UTDHZ</td>\n",
       "      <td>Male</td>\n",
       "      <td>0</td>\n",
       "      <td>Yes</td>\n",
       "      <td>Yes</td>\n",
       "      <td>1</td>\n",
       "      <td>No</td>\n",
       "      <td>No phone service</td>\n",
       "      <td>DSL</td>\n",
       "      <td>No</td>\n",
       "      <td>...</td>\n",
       "      <td>No</td>\n",
       "      <td>No</td>\n",
       "      <td>No</td>\n",
       "      <td>No</td>\n",
       "      <td>Month-to-month</td>\n",
       "      <td>No</td>\n",
       "      <td>Electronic check</td>\n",
       "      <td>30.20</td>\n",
       "      <td>30.2</td>\n",
       "      <td>Yes</td>\n",
       "    </tr>\n",
       "    <tr>\n",
       "      <th>62</th>\n",
       "      <td>0526-SXDJP</td>\n",
       "      <td>Male</td>\n",
       "      <td>0</td>\n",
       "      <td>Yes</td>\n",
       "      <td>No</td>\n",
       "      <td>72</td>\n",
       "      <td>No</td>\n",
       "      <td>No phone service</td>\n",
       "      <td>DSL</td>\n",
       "      <td>Yes</td>\n",
       "      <td>...</td>\n",
       "      <td>Yes</td>\n",
       "      <td>No</td>\n",
       "      <td>No</td>\n",
       "      <td>No</td>\n",
       "      <td>Two year</td>\n",
       "      <td>No</td>\n",
       "      <td>Bank transfer (automatic)</td>\n",
       "      <td>42.10</td>\n",
       "      <td>2962</td>\n",
       "      <td>No</td>\n",
       "    </tr>\n",
       "    <tr>\n",
       "      <th>81</th>\n",
       "      <td>8108-UXRQN</td>\n",
       "      <td>Female</td>\n",
       "      <td>0</td>\n",
       "      <td>Yes</td>\n",
       "      <td>Yes</td>\n",
       "      <td>11</td>\n",
       "      <td>No</td>\n",
       "      <td>No phone service</td>\n",
       "      <td>DSL</td>\n",
       "      <td>Yes</td>\n",
       "      <td>...</td>\n",
       "      <td>No</td>\n",
       "      <td>No</td>\n",
       "      <td>Yes</td>\n",
       "      <td>Yes</td>\n",
       "      <td>Month-to-month</td>\n",
       "      <td>No</td>\n",
       "      <td>Electronic check</td>\n",
       "      <td>50.55</td>\n",
       "      <td>565.35</td>\n",
       "      <td>No</td>\n",
       "    </tr>\n",
       "    <tr>\n",
       "      <th>89</th>\n",
       "      <td>3016-KSVCP</td>\n",
       "      <td>Male</td>\n",
       "      <td>0</td>\n",
       "      <td>Yes</td>\n",
       "      <td>No</td>\n",
       "      <td>29</td>\n",
       "      <td>No</td>\n",
       "      <td>No phone service</td>\n",
       "      <td>DSL</td>\n",
       "      <td>No</td>\n",
       "      <td>...</td>\n",
       "      <td>No</td>\n",
       "      <td>No</td>\n",
       "      <td>Yes</td>\n",
       "      <td>No</td>\n",
       "      <td>Month-to-month</td>\n",
       "      <td>No</td>\n",
       "      <td>Mailed check</td>\n",
       "      <td>33.75</td>\n",
       "      <td>1009.25</td>\n",
       "      <td>No</td>\n",
       "    </tr>\n",
       "    <tr>\n",
       "      <th>103</th>\n",
       "      <td>5386-THSLQ</td>\n",
       "      <td>Female</td>\n",
       "      <td>1</td>\n",
       "      <td>Yes</td>\n",
       "      <td>No</td>\n",
       "      <td>66</td>\n",
       "      <td>No</td>\n",
       "      <td>No phone service</td>\n",
       "      <td>DSL</td>\n",
       "      <td>No</td>\n",
       "      <td>...</td>\n",
       "      <td>Yes</td>\n",
       "      <td>No</td>\n",
       "      <td>Yes</td>\n",
       "      <td>No</td>\n",
       "      <td>One year</td>\n",
       "      <td>No</td>\n",
       "      <td>Bank transfer (automatic)</td>\n",
       "      <td>45.55</td>\n",
       "      <td>3027.25</td>\n",
       "      <td>No</td>\n",
       "    </tr>\n",
       "    <tr>\n",
       "      <th>105</th>\n",
       "      <td>6180-YBIQI</td>\n",
       "      <td>Male</td>\n",
       "      <td>0</td>\n",
       "      <td>No</td>\n",
       "      <td>No</td>\n",
       "      <td>5</td>\n",
       "      <td>No</td>\n",
       "      <td>No phone service</td>\n",
       "      <td>DSL</td>\n",
       "      <td>No</td>\n",
       "      <td>...</td>\n",
       "      <td>No</td>\n",
       "      <td>No</td>\n",
       "      <td>No</td>\n",
       "      <td>No</td>\n",
       "      <td>Month-to-month</td>\n",
       "      <td>No</td>\n",
       "      <td>Mailed check</td>\n",
       "      <td>24.30</td>\n",
       "      <td>100.2</td>\n",
       "      <td>No</td>\n",
       "    </tr>\n",
       "  </tbody>\n",
       "</table>\n",
       "<p>10 rows × 21 columns</p>\n",
       "</div>"
      ],
      "text/plain": [
       "     customerID  gender  SeniorCitizen Partner Dependents  tenure  \\\n",
       "0    7590-VHVEG  Female              0     Yes         No       1   \n",
       "3    7795-CFOCW    Male              0      No         No      45   \n",
       "7    6713-OKOMC  Female              0      No         No      10   \n",
       "20   8779-QRDMV    Male              1      No         No       1   \n",
       "27   8665-UTDHZ    Male              0     Yes        Yes       1   \n",
       "62   0526-SXDJP    Male              0     Yes         No      72   \n",
       "81   8108-UXRQN  Female              0     Yes        Yes      11   \n",
       "89   3016-KSVCP    Male              0     Yes         No      29   \n",
       "103  5386-THSLQ  Female              1     Yes         No      66   \n",
       "105  6180-YBIQI    Male              0      No         No       5   \n",
       "\n",
       "    PhoneService     MultipleLines InternetService OnlineSecurity  ...  \\\n",
       "0             No  No phone service             DSL             No  ...   \n",
       "3             No  No phone service             DSL            Yes  ...   \n",
       "7             No  No phone service             DSL            Yes  ...   \n",
       "20            No  No phone service             DSL             No  ...   \n",
       "27            No  No phone service             DSL             No  ...   \n",
       "62            No  No phone service             DSL            Yes  ...   \n",
       "81            No  No phone service             DSL            Yes  ...   \n",
       "89            No  No phone service             DSL             No  ...   \n",
       "103           No  No phone service             DSL             No  ...   \n",
       "105           No  No phone service             DSL             No  ...   \n",
       "\n",
       "    DeviceProtection TechSupport StreamingTV StreamingMovies        Contract  \\\n",
       "0                 No          No          No              No  Month-to-month   \n",
       "3                Yes         Yes          No              No        One year   \n",
       "7                 No          No          No              No  Month-to-month   \n",
       "20               Yes          No          No             Yes  Month-to-month   \n",
       "27                No          No          No              No  Month-to-month   \n",
       "62               Yes          No          No              No        Two year   \n",
       "81                No          No         Yes             Yes  Month-to-month   \n",
       "89                No          No         Yes              No  Month-to-month   \n",
       "103              Yes          No         Yes              No        One year   \n",
       "105               No          No          No              No  Month-to-month   \n",
       "\n",
       "    PaperlessBilling              PaymentMethod MonthlyCharges  TotalCharges  \\\n",
       "0                Yes           Electronic check          29.85         29.85   \n",
       "3                 No  Bank transfer (automatic)          42.30       1840.75   \n",
       "7                 No               Mailed check          29.75         301.9   \n",
       "20               Yes           Electronic check          39.65         39.65   \n",
       "27                No           Electronic check          30.20          30.2   \n",
       "62                No  Bank transfer (automatic)          42.10          2962   \n",
       "81                No           Electronic check          50.55        565.35   \n",
       "89                No               Mailed check          33.75       1009.25   \n",
       "103               No  Bank transfer (automatic)          45.55       3027.25   \n",
       "105               No               Mailed check          24.30         100.2   \n",
       "\n",
       "    Churn  \n",
       "0      No  \n",
       "3      No  \n",
       "7      No  \n",
       "20    Yes  \n",
       "27    Yes  \n",
       "62     No  \n",
       "81     No  \n",
       "89     No  \n",
       "103    No  \n",
       "105    No  \n",
       "\n",
       "[10 rows x 21 columns]"
      ]
     },
     "execution_count": 22,
     "metadata": {},
     "output_type": "execute_result"
    }
   ],
   "source": [
    "df.query('MultipleLines == \"No phone service\"').head(10)"
   ]
  },
  {
   "cell_type": "code",
   "execution_count": 23,
   "id": "278ee211",
   "metadata": {},
   "outputs": [
    {
     "data": {
      "text/plain": [
       "Month-to-month    3875\n",
       "Two year          1695\n",
       "One year          1473\n",
       "Name: Contract, dtype: int64"
      ]
     },
     "execution_count": 23,
     "metadata": {},
     "output_type": "execute_result"
    }
   ],
   "source": [
    "df.Contract.value_counts()"
   ]
  },
  {
   "cell_type": "code",
   "execution_count": 24,
   "id": "1d543501",
   "metadata": {},
   "outputs": [
    {
     "data": {
      "text/plain": [
       "Electronic check             2365\n",
       "Mailed check                 1612\n",
       "Bank transfer (automatic)    1544\n",
       "Credit card (automatic)      1522\n",
       "Name: PaymentMethod, dtype: int64"
      ]
     },
     "execution_count": 24,
     "metadata": {},
     "output_type": "execute_result"
    }
   ],
   "source": [
    "df.PaymentMethod.value_counts()"
   ]
  },
  {
   "cell_type": "code",
   "execution_count": 25,
   "id": "e8e05879",
   "metadata": {},
   "outputs": [
    {
     "data": {
      "text/plain": [
       "0         29.85\n",
       "1        1889.5\n",
       "2        108.15\n",
       "3       1840.75\n",
       "4        151.65\n",
       "         ...   \n",
       "7038     1990.5\n",
       "7039     7362.9\n",
       "7040     346.45\n",
       "7041      306.6\n",
       "7042     6844.5\n",
       "Name: TotalCharges, Length: 7043, dtype: object"
      ]
     },
     "execution_count": 25,
     "metadata": {},
     "output_type": "execute_result"
    }
   ],
   "source": [
    "df['TotalCharges'].str.strip()"
   ]
  },
  {
   "cell_type": "code",
   "execution_count": 26,
   "id": "128c8593",
   "metadata": {},
   "outputs": [
    {
     "data": {
      "text/html": [
       "<div>\n",
       "<style scoped>\n",
       "    .dataframe tbody tr th:only-of-type {\n",
       "        vertical-align: middle;\n",
       "    }\n",
       "\n",
       "    .dataframe tbody tr th {\n",
       "        vertical-align: top;\n",
       "    }\n",
       "\n",
       "    .dataframe thead th {\n",
       "        text-align: right;\n",
       "    }\n",
       "</style>\n",
       "<table border=\"1\" class=\"dataframe\">\n",
       "  <thead>\n",
       "    <tr style=\"text-align: right;\">\n",
       "      <th></th>\n",
       "      <th>customerID</th>\n",
       "      <th>gender</th>\n",
       "      <th>SeniorCitizen</th>\n",
       "      <th>Partner</th>\n",
       "      <th>Dependents</th>\n",
       "      <th>tenure</th>\n",
       "      <th>PhoneService</th>\n",
       "      <th>MultipleLines</th>\n",
       "      <th>InternetService</th>\n",
       "      <th>OnlineSecurity</th>\n",
       "      <th>...</th>\n",
       "      <th>DeviceProtection</th>\n",
       "      <th>TechSupport</th>\n",
       "      <th>StreamingTV</th>\n",
       "      <th>StreamingMovies</th>\n",
       "      <th>Contract</th>\n",
       "      <th>PaperlessBilling</th>\n",
       "      <th>PaymentMethod</th>\n",
       "      <th>MonthlyCharges</th>\n",
       "      <th>TotalCharges</th>\n",
       "      <th>Churn</th>\n",
       "    </tr>\n",
       "  </thead>\n",
       "  <tbody>\n",
       "    <tr>\n",
       "      <th>488</th>\n",
       "      <td>4472-LVYGI</td>\n",
       "      <td>Female</td>\n",
       "      <td>0</td>\n",
       "      <td>Yes</td>\n",
       "      <td>Yes</td>\n",
       "      <td>0</td>\n",
       "      <td>No</td>\n",
       "      <td>No phone service</td>\n",
       "      <td>DSL</td>\n",
       "      <td>Yes</td>\n",
       "      <td>...</td>\n",
       "      <td>Yes</td>\n",
       "      <td>Yes</td>\n",
       "      <td>Yes</td>\n",
       "      <td>No</td>\n",
       "      <td>Two year</td>\n",
       "      <td>Yes</td>\n",
       "      <td>Bank transfer (automatic)</td>\n",
       "      <td>52.55</td>\n",
       "      <td></td>\n",
       "      <td>No</td>\n",
       "    </tr>\n",
       "    <tr>\n",
       "      <th>753</th>\n",
       "      <td>3115-CZMZD</td>\n",
       "      <td>Male</td>\n",
       "      <td>0</td>\n",
       "      <td>No</td>\n",
       "      <td>Yes</td>\n",
       "      <td>0</td>\n",
       "      <td>Yes</td>\n",
       "      <td>No</td>\n",
       "      <td>No</td>\n",
       "      <td>No internet service</td>\n",
       "      <td>...</td>\n",
       "      <td>No internet service</td>\n",
       "      <td>No internet service</td>\n",
       "      <td>No internet service</td>\n",
       "      <td>No internet service</td>\n",
       "      <td>Two year</td>\n",
       "      <td>No</td>\n",
       "      <td>Mailed check</td>\n",
       "      <td>20.25</td>\n",
       "      <td></td>\n",
       "      <td>No</td>\n",
       "    </tr>\n",
       "    <tr>\n",
       "      <th>936</th>\n",
       "      <td>5709-LVOEQ</td>\n",
       "      <td>Female</td>\n",
       "      <td>0</td>\n",
       "      <td>Yes</td>\n",
       "      <td>Yes</td>\n",
       "      <td>0</td>\n",
       "      <td>Yes</td>\n",
       "      <td>No</td>\n",
       "      <td>DSL</td>\n",
       "      <td>Yes</td>\n",
       "      <td>...</td>\n",
       "      <td>Yes</td>\n",
       "      <td>No</td>\n",
       "      <td>Yes</td>\n",
       "      <td>Yes</td>\n",
       "      <td>Two year</td>\n",
       "      <td>No</td>\n",
       "      <td>Mailed check</td>\n",
       "      <td>80.85</td>\n",
       "      <td></td>\n",
       "      <td>No</td>\n",
       "    </tr>\n",
       "    <tr>\n",
       "      <th>1082</th>\n",
       "      <td>4367-NUYAO</td>\n",
       "      <td>Male</td>\n",
       "      <td>0</td>\n",
       "      <td>Yes</td>\n",
       "      <td>Yes</td>\n",
       "      <td>0</td>\n",
       "      <td>Yes</td>\n",
       "      <td>Yes</td>\n",
       "      <td>No</td>\n",
       "      <td>No internet service</td>\n",
       "      <td>...</td>\n",
       "      <td>No internet service</td>\n",
       "      <td>No internet service</td>\n",
       "      <td>No internet service</td>\n",
       "      <td>No internet service</td>\n",
       "      <td>Two year</td>\n",
       "      <td>No</td>\n",
       "      <td>Mailed check</td>\n",
       "      <td>25.75</td>\n",
       "      <td></td>\n",
       "      <td>No</td>\n",
       "    </tr>\n",
       "    <tr>\n",
       "      <th>1340</th>\n",
       "      <td>1371-DWPAZ</td>\n",
       "      <td>Female</td>\n",
       "      <td>0</td>\n",
       "      <td>Yes</td>\n",
       "      <td>Yes</td>\n",
       "      <td>0</td>\n",
       "      <td>No</td>\n",
       "      <td>No phone service</td>\n",
       "      <td>DSL</td>\n",
       "      <td>Yes</td>\n",
       "      <td>...</td>\n",
       "      <td>Yes</td>\n",
       "      <td>Yes</td>\n",
       "      <td>Yes</td>\n",
       "      <td>No</td>\n",
       "      <td>Two year</td>\n",
       "      <td>No</td>\n",
       "      <td>Credit card (automatic)</td>\n",
       "      <td>56.05</td>\n",
       "      <td></td>\n",
       "      <td>No</td>\n",
       "    </tr>\n",
       "    <tr>\n",
       "      <th>3331</th>\n",
       "      <td>7644-OMVMY</td>\n",
       "      <td>Male</td>\n",
       "      <td>0</td>\n",
       "      <td>Yes</td>\n",
       "      <td>Yes</td>\n",
       "      <td>0</td>\n",
       "      <td>Yes</td>\n",
       "      <td>No</td>\n",
       "      <td>No</td>\n",
       "      <td>No internet service</td>\n",
       "      <td>...</td>\n",
       "      <td>No internet service</td>\n",
       "      <td>No internet service</td>\n",
       "      <td>No internet service</td>\n",
       "      <td>No internet service</td>\n",
       "      <td>Two year</td>\n",
       "      <td>No</td>\n",
       "      <td>Mailed check</td>\n",
       "      <td>19.85</td>\n",
       "      <td></td>\n",
       "      <td>No</td>\n",
       "    </tr>\n",
       "    <tr>\n",
       "      <th>3826</th>\n",
       "      <td>3213-VVOLG</td>\n",
       "      <td>Male</td>\n",
       "      <td>0</td>\n",
       "      <td>Yes</td>\n",
       "      <td>Yes</td>\n",
       "      <td>0</td>\n",
       "      <td>Yes</td>\n",
       "      <td>Yes</td>\n",
       "      <td>No</td>\n",
       "      <td>No internet service</td>\n",
       "      <td>...</td>\n",
       "      <td>No internet service</td>\n",
       "      <td>No internet service</td>\n",
       "      <td>No internet service</td>\n",
       "      <td>No internet service</td>\n",
       "      <td>Two year</td>\n",
       "      <td>No</td>\n",
       "      <td>Mailed check</td>\n",
       "      <td>25.35</td>\n",
       "      <td></td>\n",
       "      <td>No</td>\n",
       "    </tr>\n",
       "    <tr>\n",
       "      <th>4380</th>\n",
       "      <td>2520-SGTTA</td>\n",
       "      <td>Female</td>\n",
       "      <td>0</td>\n",
       "      <td>Yes</td>\n",
       "      <td>Yes</td>\n",
       "      <td>0</td>\n",
       "      <td>Yes</td>\n",
       "      <td>No</td>\n",
       "      <td>No</td>\n",
       "      <td>No internet service</td>\n",
       "      <td>...</td>\n",
       "      <td>No internet service</td>\n",
       "      <td>No internet service</td>\n",
       "      <td>No internet service</td>\n",
       "      <td>No internet service</td>\n",
       "      <td>Two year</td>\n",
       "      <td>No</td>\n",
       "      <td>Mailed check</td>\n",
       "      <td>20.00</td>\n",
       "      <td></td>\n",
       "      <td>No</td>\n",
       "    </tr>\n",
       "    <tr>\n",
       "      <th>5218</th>\n",
       "      <td>2923-ARZLG</td>\n",
       "      <td>Male</td>\n",
       "      <td>0</td>\n",
       "      <td>Yes</td>\n",
       "      <td>Yes</td>\n",
       "      <td>0</td>\n",
       "      <td>Yes</td>\n",
       "      <td>No</td>\n",
       "      <td>No</td>\n",
       "      <td>No internet service</td>\n",
       "      <td>...</td>\n",
       "      <td>No internet service</td>\n",
       "      <td>No internet service</td>\n",
       "      <td>No internet service</td>\n",
       "      <td>No internet service</td>\n",
       "      <td>One year</td>\n",
       "      <td>Yes</td>\n",
       "      <td>Mailed check</td>\n",
       "      <td>19.70</td>\n",
       "      <td></td>\n",
       "      <td>No</td>\n",
       "    </tr>\n",
       "    <tr>\n",
       "      <th>6670</th>\n",
       "      <td>4075-WKNIU</td>\n",
       "      <td>Female</td>\n",
       "      <td>0</td>\n",
       "      <td>Yes</td>\n",
       "      <td>Yes</td>\n",
       "      <td>0</td>\n",
       "      <td>Yes</td>\n",
       "      <td>Yes</td>\n",
       "      <td>DSL</td>\n",
       "      <td>No</td>\n",
       "      <td>...</td>\n",
       "      <td>Yes</td>\n",
       "      <td>Yes</td>\n",
       "      <td>Yes</td>\n",
       "      <td>No</td>\n",
       "      <td>Two year</td>\n",
       "      <td>No</td>\n",
       "      <td>Mailed check</td>\n",
       "      <td>73.35</td>\n",
       "      <td></td>\n",
       "      <td>No</td>\n",
       "    </tr>\n",
       "    <tr>\n",
       "      <th>6754</th>\n",
       "      <td>2775-SEFEE</td>\n",
       "      <td>Male</td>\n",
       "      <td>0</td>\n",
       "      <td>No</td>\n",
       "      <td>Yes</td>\n",
       "      <td>0</td>\n",
       "      <td>Yes</td>\n",
       "      <td>Yes</td>\n",
       "      <td>DSL</td>\n",
       "      <td>Yes</td>\n",
       "      <td>...</td>\n",
       "      <td>No</td>\n",
       "      <td>Yes</td>\n",
       "      <td>No</td>\n",
       "      <td>No</td>\n",
       "      <td>Two year</td>\n",
       "      <td>Yes</td>\n",
       "      <td>Bank transfer (automatic)</td>\n",
       "      <td>61.90</td>\n",
       "      <td></td>\n",
       "      <td>No</td>\n",
       "    </tr>\n",
       "  </tbody>\n",
       "</table>\n",
       "<p>11 rows × 21 columns</p>\n",
       "</div>"
      ],
      "text/plain": [
       "      customerID  gender  SeniorCitizen Partner Dependents  tenure  \\\n",
       "488   4472-LVYGI  Female              0     Yes        Yes       0   \n",
       "753   3115-CZMZD    Male              0      No        Yes       0   \n",
       "936   5709-LVOEQ  Female              0     Yes        Yes       0   \n",
       "1082  4367-NUYAO    Male              0     Yes        Yes       0   \n",
       "1340  1371-DWPAZ  Female              0     Yes        Yes       0   \n",
       "3331  7644-OMVMY    Male              0     Yes        Yes       0   \n",
       "3826  3213-VVOLG    Male              0     Yes        Yes       0   \n",
       "4380  2520-SGTTA  Female              0     Yes        Yes       0   \n",
       "5218  2923-ARZLG    Male              0     Yes        Yes       0   \n",
       "6670  4075-WKNIU  Female              0     Yes        Yes       0   \n",
       "6754  2775-SEFEE    Male              0      No        Yes       0   \n",
       "\n",
       "     PhoneService     MultipleLines InternetService       OnlineSecurity  ...  \\\n",
       "488            No  No phone service             DSL                  Yes  ...   \n",
       "753           Yes                No              No  No internet service  ...   \n",
       "936           Yes                No             DSL                  Yes  ...   \n",
       "1082          Yes               Yes              No  No internet service  ...   \n",
       "1340           No  No phone service             DSL                  Yes  ...   \n",
       "3331          Yes                No              No  No internet service  ...   \n",
       "3826          Yes               Yes              No  No internet service  ...   \n",
       "4380          Yes                No              No  No internet service  ...   \n",
       "5218          Yes                No              No  No internet service  ...   \n",
       "6670          Yes               Yes             DSL                   No  ...   \n",
       "6754          Yes               Yes             DSL                  Yes  ...   \n",
       "\n",
       "         DeviceProtection          TechSupport          StreamingTV  \\\n",
       "488                   Yes                  Yes                  Yes   \n",
       "753   No internet service  No internet service  No internet service   \n",
       "936                   Yes                   No                  Yes   \n",
       "1082  No internet service  No internet service  No internet service   \n",
       "1340                  Yes                  Yes                  Yes   \n",
       "3331  No internet service  No internet service  No internet service   \n",
       "3826  No internet service  No internet service  No internet service   \n",
       "4380  No internet service  No internet service  No internet service   \n",
       "5218  No internet service  No internet service  No internet service   \n",
       "6670                  Yes                  Yes                  Yes   \n",
       "6754                   No                  Yes                   No   \n",
       "\n",
       "          StreamingMovies  Contract PaperlessBilling  \\\n",
       "488                    No  Two year              Yes   \n",
       "753   No internet service  Two year               No   \n",
       "936                   Yes  Two year               No   \n",
       "1082  No internet service  Two year               No   \n",
       "1340                   No  Two year               No   \n",
       "3331  No internet service  Two year               No   \n",
       "3826  No internet service  Two year               No   \n",
       "4380  No internet service  Two year               No   \n",
       "5218  No internet service  One year              Yes   \n",
       "6670                   No  Two year               No   \n",
       "6754                   No  Two year              Yes   \n",
       "\n",
       "                  PaymentMethod MonthlyCharges  TotalCharges Churn  \n",
       "488   Bank transfer (automatic)          52.55                  No  \n",
       "753                Mailed check          20.25                  No  \n",
       "936                Mailed check          80.85                  No  \n",
       "1082               Mailed check          25.75                  No  \n",
       "1340    Credit card (automatic)          56.05                  No  \n",
       "3331               Mailed check          19.85                  No  \n",
       "3826               Mailed check          25.35                  No  \n",
       "4380               Mailed check          20.00                  No  \n",
       "5218               Mailed check          19.70                  No  \n",
       "6670               Mailed check          73.35                  No  \n",
       "6754  Bank transfer (automatic)          61.90                  No  \n",
       "\n",
       "[11 rows x 21 columns]"
      ]
     },
     "execution_count": 26,
     "metadata": {},
     "output_type": "execute_result"
    }
   ],
   "source": [
    "df.query('TotalCharges == \" \"')"
   ]
  },
  {
   "cell_type": "code",
   "execution_count": 27,
   "id": "dd725711",
   "metadata": {},
   "outputs": [],
   "source": [
    "df.drop(inplace=True, axis=0, index=df.query('TotalCharges == \" \"').index)"
   ]
  },
  {
   "cell_type": "code",
   "execution_count": 28,
   "id": "374203e3",
   "metadata": {},
   "outputs": [
    {
     "data": {
      "text/html": [
       "<div>\n",
       "<style scoped>\n",
       "    .dataframe tbody tr th:only-of-type {\n",
       "        vertical-align: middle;\n",
       "    }\n",
       "\n",
       "    .dataframe tbody tr th {\n",
       "        vertical-align: top;\n",
       "    }\n",
       "\n",
       "    .dataframe thead th {\n",
       "        text-align: right;\n",
       "    }\n",
       "</style>\n",
       "<table border=\"1\" class=\"dataframe\">\n",
       "  <thead>\n",
       "    <tr style=\"text-align: right;\">\n",
       "      <th></th>\n",
       "      <th>customerID</th>\n",
       "      <th>gender</th>\n",
       "      <th>SeniorCitizen</th>\n",
       "      <th>Partner</th>\n",
       "      <th>Dependents</th>\n",
       "      <th>tenure</th>\n",
       "      <th>PhoneService</th>\n",
       "      <th>MultipleLines</th>\n",
       "      <th>InternetService</th>\n",
       "      <th>OnlineSecurity</th>\n",
       "      <th>...</th>\n",
       "      <th>DeviceProtection</th>\n",
       "      <th>TechSupport</th>\n",
       "      <th>StreamingTV</th>\n",
       "      <th>StreamingMovies</th>\n",
       "      <th>Contract</th>\n",
       "      <th>PaperlessBilling</th>\n",
       "      <th>PaymentMethod</th>\n",
       "      <th>MonthlyCharges</th>\n",
       "      <th>TotalCharges</th>\n",
       "      <th>Churn</th>\n",
       "    </tr>\n",
       "  </thead>\n",
       "  <tbody>\n",
       "  </tbody>\n",
       "</table>\n",
       "<p>0 rows × 21 columns</p>\n",
       "</div>"
      ],
      "text/plain": [
       "Empty DataFrame\n",
       "Columns: [customerID, gender, SeniorCitizen, Partner, Dependents, tenure, PhoneService, MultipleLines, InternetService, OnlineSecurity, OnlineBackup, DeviceProtection, TechSupport, StreamingTV, StreamingMovies, Contract, PaperlessBilling, PaymentMethod, MonthlyCharges, TotalCharges, Churn]\n",
       "Index: []\n",
       "\n",
       "[0 rows x 21 columns]"
      ]
     },
     "execution_count": 28,
     "metadata": {},
     "output_type": "execute_result"
    }
   ],
   "source": [
    "df.query('TotalCharges == \" \"')"
   ]
  },
  {
   "cell_type": "code",
   "execution_count": 29,
   "id": "998bb2d6",
   "metadata": {},
   "outputs": [],
   "source": [
    "df['TotalCharges'] = df.TotalCharges.astype(float)"
   ]
  },
  {
   "cell_type": "code",
   "execution_count": 30,
   "id": "44a913ab",
   "metadata": {},
   "outputs": [
    {
     "name": "stdout",
     "output_type": "stream",
     "text": [
      "<class 'pandas.core.frame.DataFrame'>\n",
      "Int64Index: 7032 entries, 0 to 7042\n",
      "Data columns (total 21 columns):\n",
      " #   Column            Non-Null Count  Dtype  \n",
      "---  ------            --------------  -----  \n",
      " 0   customerID        7032 non-null   object \n",
      " 1   gender            7032 non-null   object \n",
      " 2   SeniorCitizen     7032 non-null   int64  \n",
      " 3   Partner           7032 non-null   object \n",
      " 4   Dependents        7032 non-null   object \n",
      " 5   tenure            7032 non-null   int64  \n",
      " 6   PhoneService      7032 non-null   object \n",
      " 7   MultipleLines     7032 non-null   object \n",
      " 8   InternetService   7032 non-null   object \n",
      " 9   OnlineSecurity    7032 non-null   object \n",
      " 10  OnlineBackup      7032 non-null   object \n",
      " 11  DeviceProtection  7032 non-null   object \n",
      " 12  TechSupport       7032 non-null   object \n",
      " 13  StreamingTV       7032 non-null   object \n",
      " 14  StreamingMovies   7032 non-null   object \n",
      " 15  Contract          7032 non-null   object \n",
      " 16  PaperlessBilling  7032 non-null   object \n",
      " 17  PaymentMethod     7032 non-null   object \n",
      " 18  MonthlyCharges    7032 non-null   float64\n",
      " 19  TotalCharges      7032 non-null   float64\n",
      " 20  Churn             7032 non-null   object \n",
      "dtypes: float64(2), int64(2), object(17)\n",
      "memory usage: 1.2+ MB\n"
     ]
    }
   ],
   "source": [
    "df.info()"
   ]
  },
  {
   "cell_type": "code",
   "execution_count": 31,
   "id": "0aca9d52",
   "metadata": {},
   "outputs": [],
   "source": [
    "X = df.copy()\n",
    "\n",
    "\n",
    "# Label encoding for categoricals\n",
    "for colname in X.select_dtypes(\"object\"):\n",
    "    X[colname], _ = X[colname].factorize()\n",
    "\n",
    "y = X.pop(\"Churn\")\n",
    "# All discrete features should now have integer dtypes (double-check this before using MI!)\n",
    "discrete_features = X.dtypes == int"
   ]
  },
  {
   "cell_type": "code",
   "execution_count": 32,
   "id": "e3324d95",
   "metadata": {},
   "outputs": [],
   "source": [
    "from sklearn.feature_selection import mutual_info_regression"
   ]
  },
  {
   "cell_type": "code",
   "execution_count": 33,
   "id": "4b0398a3",
   "metadata": {},
   "outputs": [
    {
     "data": {
      "text/plain": [
       "Contract            0.104570\n",
       "OnlineSecurity      0.074586\n",
       "tenure              0.072401\n",
       "InternetService     0.065042\n",
       "PaymentMethod       0.062629\n",
       "TechSupport         0.061720\n",
       "TotalCharges        0.043398\n",
       "DeviceProtection    0.042104\n",
       "OnlineBackup        0.039914\n",
       "MonthlyCharges      0.038838\n",
       "PaperlessBilling    0.031520\n",
       "StreamingTV         0.028419\n",
       "Partner             0.023313\n",
       "StreamingMovies     0.020031\n",
       "Dependents          0.016958\n",
       "PhoneService        0.014793\n",
       "SeniorCitizen       0.014154\n",
       "MultipleLines       0.007321\n",
       "gender              0.000000\n",
       "customerID          0.000000\n",
       "Name: MI Scores, dtype: float64"
      ]
     },
     "execution_count": 33,
     "metadata": {},
     "output_type": "execute_result"
    }
   ],
   "source": [
    "def make_mi_scores(X, y, discrete_features):\n",
    "    mi_scores = mutual_info_regression(X, y, discrete_features=discrete_features)\n",
    "    mi_scores = pd.Series(mi_scores, name=\"MI Scores\", index=X.columns)\n",
    "    mi_scores = mi_scores.sort_values(ascending=False)\n",
    "    return mi_scores\n",
    "\n",
    "mi_scores = make_mi_scores(X, y, discrete_features)\n",
    "mi_scores  # show a few features with their MI scores"
   ]
  },
  {
   "cell_type": "code",
   "execution_count": 34,
   "id": "d7f74bf8",
   "metadata": {},
   "outputs": [
    {
     "data": {
      "image/png": "[encoded data removed]",
      "text/plain": [
       "<Figure size 1500x1000 with 1 Axes>"
      ]
     },
     "metadata": {
      "needs_background": "light"
     },
     "output_type": "display_data"
    }
   ],
   "source": [
    "def plot_mi_scores(scores):\n",
    "    scores = scores.sort_values(ascending=True)\n",
    "    width = np.arange(len(scores))\n",
    "    ticks = list(scores.index)\n",
    "    plt.barh(width, scores)\n",
    "    plt.yticks(width, ticks)\n",
    "    plt.title(\"Mutual Information Scores\")\n",
    "\n",
    "\n",
    "plt.figure(dpi=100, figsize=(15, 10))\n",
    "plot_mi_scores(mi_scores)"
   ]
  },
  {
   "cell_type": "code",
   "execution_count": 46,
   "id": "d445b5ce",
   "metadata": {},
   "outputs": [
    {
     "data": {
      "text/plain": [
       "['Month-to-month', 'Two year', 'One year']"
      ]
     },
     "execution_count": 46,
     "metadata": {},
     "output_type": "execute_result"
    }
   ],
   "source": [
    "cont_types = df.Contract.value_counts().index.tolist()\n",
    "cont_types"
   ]
  },
  {
   "cell_type": "code",
   "execution_count": null,
   "id": "8fafe89d",
   "metadata": {},
   "outputs": [],
   "source": []
  },
  {
   "cell_type": "code",
   "execution_count": 44,
   "id": "3c61e3f9",
   "metadata": {},
   "outputs": [],
   "source": [
    "contr_prop = []\n",
    "for cont in cont_types:\n",
    "    contr_prop.append((df.Contract == cont).mean())"
   ]
  },
  {
   "cell_type": "code",
   "execution_count": 47,
   "id": "96186ff4",
   "metadata": {},
   "outputs": [
    {
     "data": {
      "text/plain": [
       "[0.551052332195677, 0.2396188850967008, 0.20932878270762229]"
      ]
     },
     "execution_count": 47,
     "metadata": {},
     "output_type": "execute_result"
    }
   ],
   "source": [
    "contr_prop"
   ]
  },
  {
   "cell_type": "code",
   "execution_count": 54,
   "id": "98d769f2",
   "metadata": {},
   "outputs": [
    {
     "data": {
      "text/plain": [
       "0.23535267349260525"
      ]
     },
     "execution_count": 54,
     "metadata": {},
     "output_type": "execute_result"
    }
   ],
   "source": [
    "m2m = ((df.Contract == 'Month-to-month') & (df.Churn == 'Yes')).mean()\n",
    "m2m"
   ]
  },
  {
   "cell_type": "code",
   "execution_count": 57,
   "id": "dad35bb5",
   "metadata": {},
   "outputs": [
    {
     "data": {
      "text/plain": [
       "0.006825938566552901"
      ]
     },
     "execution_count": 57,
     "metadata": {},
     "output_type": "execute_result"
    }
   ],
   "source": [
    "two_year = ((df.Contract == 'Two year') & (df.Churn == 'Yes')).mean()\n",
    "two_year"
   ]
  },
  {
   "cell_type": "code",
   "execution_count": 58,
   "id": "a7587889",
   "metadata": {},
   "outputs": [
    {
     "data": {
      "text/plain": [
       "0.023606370875995448"
      ]
     },
     "execution_count": 58,
     "metadata": {},
     "output_type": "execute_result"
    }
   ],
   "source": [
    "one_year = ((df.Contract == 'One year') & (df.Churn == 'Yes')).mean()\n",
    "one_year"
   ]
  },
  {
   "cell_type": "code",
   "execution_count": 68,
   "id": "c8771fd1",
   "metadata": {},
   "outputs": [
    {
     "data": {
      "image/png": "[encoded data removed]",
      "text/plain": [
       "<Figure size 432x288 with 1 Axes>"
      ]
     },
     "metadata": {
      "needs_background": "light"
     },
     "output_type": "display_data"
    }
   ],
   "source": [
    "df_Churn_y = df.query('Churn == \"Yes\"')\n",
    "plt.hist(df_Churn_y.Contract);"
   ]
  },
  {
   "cell_type": "markdown",
   "id": "ba833a64",
   "metadata": {},
   "source": [
    "From above figure, Month-to-month contract has the highest Churn rate while the Two year contract has the lowest.  \n",
    "Churn rate is proportion to contract duration"
   ]
  },
  {
   "cell_type": "code",
   "execution_count": 69,
   "id": "f3894a11",
   "metadata": {},
   "outputs": [
    {
     "data": {
      "text/plain": [
       "0.13353242320819111"
      ]
     },
     "execution_count": 69,
     "metadata": {},
     "output_type": "execute_result"
    }
   ],
   "source": [
    "female = ((df.gender == 'Female') & (df.Churn == 'Yes')).mean()\n",
    "female"
   ]
  },
  {
   "cell_type": "code",
   "execution_count": 70,
   "id": "c4f8cbd7",
   "metadata": {},
   "outputs": [
    {
     "data": {
      "text/plain": [
       "0.13225255972696245"
      ]
     },
     "execution_count": 70,
     "metadata": {},
     "output_type": "execute_result"
    }
   ],
   "source": [
    "male = ((df.gender == 'Male') & (df.Churn == 'Yes')).mean()\n",
    "male"
   ]
  },
  {
   "cell_type": "code",
   "execution_count": 71,
   "id": "5698cf93",
   "metadata": {},
   "outputs": [
    {
     "data": {
      "text/plain": [
       "No                     3497\n",
       "Yes                    2015\n",
       "No internet service    1520\n",
       "Name: OnlineSecurity, dtype: int64"
      ]
     },
     "execution_count": 71,
     "metadata": {},
     "output_type": "execute_result"
    }
   ],
   "source": [
    "df.OnlineSecurity.value_counts()"
   ]
  },
  {
   "cell_type": "code",
   "execution_count": 72,
   "id": "14d8a407",
   "metadata": {},
   "outputs": [
    {
     "data": {
      "text/plain": [
       "0.20776450511945393"
      ]
     },
     "execution_count": 72,
     "metadata": {},
     "output_type": "execute_result"
    }
   ],
   "source": [
    "onsec_no = ((df.OnlineSecurity == 'No') & (df.Churn == 'Yes')).mean()\n",
    "onsec_no"
   ]
  },
  {
   "cell_type": "code",
   "execution_count": 73,
   "id": "7bc4b676",
   "metadata": {},
   "outputs": [
    {
     "data": {
      "text/plain": [
       "0.04195108077360637"
      ]
     },
     "execution_count": 73,
     "metadata": {},
     "output_type": "execute_result"
    }
   ],
   "source": [
    "onsec_yes = ((df.OnlineSecurity == 'Yes') & (df.Churn == 'Yes')).mean()\n",
    "onsec_yes"
   ]
  },
  {
   "cell_type": "code",
   "execution_count": 74,
   "id": "7a35499a",
   "metadata": {},
   "outputs": [
    {
     "data": {
      "text/plain": [
       "0.016069397042093286"
      ]
     },
     "execution_count": 74,
     "metadata": {},
     "output_type": "execute_result"
    }
   ],
   "source": [
    "onsec_noint = ((df.OnlineSecurity == 'No internet service') & (df.Churn == 'Yes')).mean()\n",
    "onsec_noint"
   ]
  },
  {
   "cell_type": "markdown",
   "id": "64448e31",
   "metadata": {},
   "source": [
    "See above"
   ]
  },
  {
   "cell_type": "code",
   "execution_count": 76,
   "id": "267e2137",
   "metadata": {},
   "outputs": [
    {
     "data": {
      "text/plain": [
       "Fiber optic    3096\n",
       "DSL            2416\n",
       "No             1520\n",
       "Name: InternetService, dtype: int64"
      ]
     },
     "execution_count": 76,
     "metadata": {},
     "output_type": "execute_result"
    }
   ],
   "source": [
    "df.InternetService.value_counts()"
   ]
  },
  {
   "cell_type": "code",
   "execution_count": 77,
   "id": "5e5e3b32",
   "metadata": {},
   "outputs": [
    {
     "data": {
      "text/plain": [
       "0.18444254835039817"
      ]
     },
     "execution_count": 77,
     "metadata": {},
     "output_type": "execute_result"
    }
   ],
   "source": [
    "int_fib = ((df.InternetService == 'Fiber optic') & (df.Churn == 'Yes')).mean()\n",
    "int_fib"
   ]
  },
  {
   "cell_type": "code",
   "execution_count": 78,
   "id": "e94539c6",
   "metadata": {},
   "outputs": [
    {
     "data": {
      "text/plain": [
       "0.06527303754266212"
      ]
     },
     "execution_count": 78,
     "metadata": {},
     "output_type": "execute_result"
    }
   ],
   "source": [
    "int_dsl = ((df.InternetService == 'DSL') & (df.Churn == 'Yes')).mean()\n",
    "int_dsl"
   ]
  },
  {
   "cell_type": "code",
   "execution_count": 79,
   "id": "a792a7fd",
   "metadata": {},
   "outputs": [
    {
     "data": {
      "text/plain": [
       "0.016069397042093286"
      ]
     },
     "execution_count": 79,
     "metadata": {},
     "output_type": "execute_result"
    }
   ],
   "source": [
    "int_no = ((df.InternetService == 'No') & (df.Churn == 'Yes')).mean()\n",
    "int_no"
   ]
  },
  {
   "cell_type": "code",
   "execution_count": 80,
   "id": "029a471f",
   "metadata": {},
   "outputs": [
    {
     "data": {
      "text/plain": [
       "Electronic check             2365\n",
       "Mailed check                 1604\n",
       "Bank transfer (automatic)    1542\n",
       "Credit card (automatic)      1521\n",
       "Name: PaymentMethod, dtype: int64"
      ]
     },
     "execution_count": 80,
     "metadata": {},
     "output_type": "execute_result"
    }
   ],
   "source": [
    "df.PaymentMethod.value_counts()"
   ]
  },
  {
   "cell_type": "code",
   "execution_count": 82,
   "id": "f360b208",
   "metadata": {},
   "outputs": [
    {
     "data": {
      "text/plain": [
       "0.1523037542662116"
      ]
     },
     "execution_count": 82,
     "metadata": {},
     "output_type": "execute_result"
    }
   ],
   "source": [
    "ele_check = ((df.PaymentMethod == 'Electronic check') & (df.Churn == 'Yes')).mean()\n",
    "ele_check"
   ]
  },
  {
   "cell_type": "code",
   "execution_count": 84,
   "id": "67af54e6",
   "metadata": {},
   "outputs": [
    {
     "data": {
      "text/plain": [
       "0.04379977246871445"
      ]
     },
     "execution_count": 84,
     "metadata": {},
     "output_type": "execute_result"
    }
   ],
   "source": [
    "mail_check = ((df.PaymentMethod == 'Mailed check') & (df.Churn == 'Yes')).mean()\n",
    "mail_check"
   ]
  },
  {
   "cell_type": "code",
   "execution_count": 85,
   "id": "9f7304f1",
   "metadata": {},
   "outputs": [
    {
     "data": {
      "text/plain": [
       "0.03668941979522184"
      ]
     },
     "execution_count": 85,
     "metadata": {},
     "output_type": "execute_result"
    }
   ],
   "source": [
    "bank_check = ((df.PaymentMethod == 'Bank transfer (automatic)') & (df.Churn == 'Yes')).mean()\n",
    "bank_check"
   ]
  },
  {
   "cell_type": "code",
   "execution_count": 86,
   "id": "6683b656",
   "metadata": {},
   "outputs": [
    {
     "data": {
      "text/plain": [
       "0.03299203640500569"
      ]
     },
     "execution_count": 86,
     "metadata": {},
     "output_type": "execute_result"
    }
   ],
   "source": [
    "Credit_check = ((df.PaymentMethod == 'Credit card (automatic)') & (df.Churn == 'Yes')).mean()\n",
    "Credit_check"
   ]
  },
  {
   "cell_type": "code",
   "execution_count": 87,
   "id": "bcf80ecb",
   "metadata": {},
   "outputs": [
    {
     "data": {
      "text/plain": [
       "No                     3472\n",
       "Yes                    2040\n",
       "No internet service    1520\n",
       "Name: TechSupport, dtype: int64"
      ]
     },
     "execution_count": 87,
     "metadata": {},
     "output_type": "execute_result"
    }
   ],
   "source": [
    "df.TechSupport.value_counts()"
   ]
  },
  {
   "cell_type": "code",
   "execution_count": 88,
   "id": "dae2c885",
   "metadata": {},
   "outputs": [
    {
     "data": {
      "text/plain": [
       "0.20563139931740615"
      ]
     },
     "execution_count": 88,
     "metadata": {},
     "output_type": "execute_result"
    }
   ],
   "source": [
    "tech_no = ((df.TechSupport == 'No') & (df.Churn == 'Yes')).mean()\n",
    "tech_no"
   ]
  },
  {
   "cell_type": "code",
   "execution_count": 89,
   "id": "3963a272",
   "metadata": {},
   "outputs": [
    {
     "data": {
      "text/plain": [
       "0.044084186575654154"
      ]
     },
     "execution_count": 89,
     "metadata": {},
     "output_type": "execute_result"
    }
   ],
   "source": [
    "tech_yes = ((df.TechSupport == 'Yes') & (df.Churn == 'Yes')).mean()\n",
    "tech_yes"
   ]
  },
  {
   "cell_type": "code",
   "execution_count": 90,
   "id": "37423deb",
   "metadata": {},
   "outputs": [
    {
     "data": {
      "text/plain": [
       "0.016069397042093286"
      ]
     },
     "execution_count": 90,
     "metadata": {},
     "output_type": "execute_result"
    }
   ],
   "source": [
    "tech_noint = ((df.TechSupport == 'No internet service') & (df.Churn == 'Yes')).mean()\n",
    "tech_noint"
   ]
  },
  {
   "cell_type": "markdown",
   "id": "3b2c1a8b",
   "metadata": {},
   "source": [
    "https://forms.gle/N1kVoj3vhkGcaxdz6\n"
   ]
  },
  {
   "cell_type": "code",
   "execution_count": 91,
   "id": "60af2511",
   "metadata": {},
   "outputs": [
    {
     "data": {
      "text/plain": [
       "65.21665231122593"
      ]
     },
     "execution_count": 91,
     "metadata": {},
     "output_type": "execute_result"
    }
   ],
   "source": [
    "df[df['gender'] == 'Female']['MonthlyCharges'].mean()"
   ]
  },
  {
   "cell_type": "code",
   "execution_count": 92,
   "id": "be73df86",
   "metadata": {},
   "outputs": [],
   "source": [
    "means = []\n",
    "for _ in range(10000):\n",
    "    bootstrap = df.sample(1000, replace=True)\n",
    "    mean = bootstrap[bootstrap['gender'] == 'Female']['MonthlyCharges'].mean()\n",
    "    means.append(mean)"
   ]
  },
  {
   "cell_type": "code",
   "execution_count": 96,
   "id": "77b51bcd",
   "metadata": {},
   "outputs": [
    {
     "data": {
      "image/png": "[encoded data removed]",
      "text/plain": [
       "<Figure size 432x288 with 1 Axes>"
      ]
     },
     "metadata": {
      "needs_background": "light"
     },
     "output_type": "display_data"
    }
   ],
   "source": [
    "plt.hist(means);"
   ]
  },
  {
   "cell_type": "code",
   "execution_count": 97,
   "id": "db570dc5",
   "metadata": {},
   "outputs": [
    {
     "data": {
      "text/plain": [
       "(62.61124441674295, 67.84424119106535)"
      ]
     },
     "execution_count": 97,
     "metadata": {},
     "output_type": "execute_result"
    }
   ],
   "source": [
    "np.percentile(means, 2.5), np.percentile(means, 97.5)"
   ]
  },
  {
   "cell_type": "code",
   "execution_count": null,
   "id": "7ff4364e",
   "metadata": {},
   "outputs": [],
   "source": []
  }
 ],
 "metadata": {
  "kernelspec": {
   "display_name": "Python 3",
   "language": "python",
   "name": "python3"
  },
  "language_info": {
   "codemirror_mode": {
    "name": "ipython",
    "version": 3
   },
   "file_extension": ".py",
   "mimetype": "text/x-python",
   "name": "python",
   "nbconvert_exporter": "python",
   "pygments_lexer": "ipython3",
   "version": "3.8.8"
  }
 },
 "nbformat": 4,
 "nbformat_minor": 5
}
