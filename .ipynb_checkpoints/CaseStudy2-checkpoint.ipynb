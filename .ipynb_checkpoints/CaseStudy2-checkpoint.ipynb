{
 "cells": [
  {
   "cell_type": "markdown",
   "id": "8c96e2ea",
   "metadata": {},
   "source": [
    "# Advanced Data Science Nanodegree   \n",
    "# Connect Sessions - Case Study \\#2 - Telco Customer Churn\n",
    "\n",
    "## Table of Contents\n",
    "<ul>\n",
    "<li><a href=\"#group\">Group Members</a></li>\n",
    "<li><a href=\"#wrangling\">Data Wrangling</a></li>\n",
    "<li><a href=\"#eda\">Exploratory Data Analysis</a></li>\n",
    "<li><a href=\"#ref\">References and Addtional information</a></li>  \n",
    "   \n",
    "</ul>"
   ]
  },
  {
   "cell_type": "markdown",
   "id": "acea6a36",
   "metadata": {},
   "source": [
    "<a id='group'></a>\n",
    "## Group Members\n",
    "| Name              | Email                                                                       |\n",
    "| :----------------- | :--------------------------------------------------------------------------- |\n",
    "| Mohab Salem       | [mohabmaher2018@gmail.com](mailto:mohabmaher2018@gmail.com)                 |\n",
    "| Mohamed Arafa     | [m.a.arafa@gmail.com](mailto:m.a.arafa@gmail.com)                           |\n",
    "| Mohamed M.Soliman | [mohamedmohamedsoliman1@gmail.com](mailto:mohamedmohamedsoliman1@gmail.com) |\n",
    "| Mohamed Ramadan   | [muhamad.ramadan@gmail.com](mailto:muhamad.ramadan@gmail.com)               |\n",
    "| Sherif Mohammed   | [mosherif00111@gmail.com](mailto:mosherif00111@gmail.com)\n",
    "| Yousef Khaled     | [yk5828033@gmail.com](mailto:yk5828033@gmail.com)                           |"
   ]
  },
  {
   "cell_type": "code",
   "execution_count": 98,
   "id": "9324d7a0",
   "metadata": {},
   "outputs": [],
   "source": [
    "# import lib\n",
    "import pandas as pd\n",
    "import numpy as np\n",
    "import matplotlib.pyplot as plt\n",
    "import seaborn as sns\n",
    "\n",
    "%matplotlib inline"
   ]
  },
  {
   "cell_type": "markdown",
   "id": "619170a6",
   "metadata": {},
   "source": [
    "<a id='wrangling'></a>\n",
    "## Data Wrangling\n",
    "\n",
    "> **Tip**: In this section of the report, we will load the data, check for cleanliness, and then trim and clean your dataset for analysis.\n",
    "\n",
    "### General Properties"
   ]
  },
  {
   "cell_type": "code",
   "execution_count": 8,
   "id": "8e7fd4ac",
   "metadata": {},
   "outputs": [],
   "source": [
    "# load data\n",
    "df = pd.read_csv('WA_Fn-UseC_-Telco-Customer-Churn.csv')"
   ]
  },
  {
   "cell_type": "code",
   "execution_count": 9,
   "id": "2c9794d9",
   "metadata": {},
   "outputs": [
    {
     "data": {
      "text/html": [
       "<div>\n",
       "<style scoped>\n",
       "    .dataframe tbody tr th:only-of-type {\n",
       "        vertical-align: middle;\n",
       "    }\n",
       "\n",
       "    .dataframe tbody tr th {\n",
       "        vertical-align: top;\n",
       "    }\n",
       "\n",
       "    .dataframe thead th {\n",
       "        text-align: right;\n",
       "    }\n",
       "</style>\n",
       "<table border=\"1\" class=\"dataframe\">\n",
       "  <thead>\n",
       "    <tr style=\"text-align: right;\">\n",
       "      <th></th>\n",
       "      <th>customerID</th>\n",
       "      <th>gender</th>\n",
       "      <th>SeniorCitizen</th>\n",
       "      <th>Partner</th>\n",
       "      <th>Dependents</th>\n",
       "      <th>tenure</th>\n",
       "      <th>PhoneService</th>\n",
       "      <th>MultipleLines</th>\n",
       "      <th>InternetService</th>\n",
       "      <th>OnlineSecurity</th>\n",
       "      <th>...</th>\n",
       "      <th>DeviceProtection</th>\n",
       "      <th>TechSupport</th>\n",
       "      <th>StreamingTV</th>\n",
       "      <th>StreamingMovies</th>\n",
       "      <th>Contract</th>\n",
       "      <th>PaperlessBilling</th>\n",
       "      <th>PaymentMethod</th>\n",
       "      <th>MonthlyCharges</th>\n",
       "      <th>TotalCharges</th>\n",
       "      <th>Churn</th>\n",
       "    </tr>\n",
       "  </thead>\n",
       "  <tbody>\n",
       "    <tr>\n",
       "      <th>0</th>\n",
       "      <td>7590-VHVEG</td>\n",
       "      <td>Female</td>\n",
       "      <td>0</td>\n",
       "      <td>Yes</td>\n",
       "      <td>No</td>\n",
       "      <td>1</td>\n",
       "      <td>No</td>\n",
       "      <td>No phone service</td>\n",
       "      <td>DSL</td>\n",
       "      <td>No</td>\n",
       "      <td>...</td>\n",
       "      <td>No</td>\n",
       "      <td>No</td>\n",
       "      <td>No</td>\n",
       "      <td>No</td>\n",
       "      <td>Month-to-month</td>\n",
       "      <td>Yes</td>\n",
       "      <td>Electronic check</td>\n",
       "      <td>29.85</td>\n",
       "      <td>29.85</td>\n",
       "      <td>No</td>\n",
       "    </tr>\n",
       "    <tr>\n",
       "      <th>1</th>\n",
       "      <td>5575-GNVDE</td>\n",
       "      <td>Male</td>\n",
       "      <td>0</td>\n",
       "      <td>No</td>\n",
       "      <td>No</td>\n",
       "      <td>34</td>\n",
       "      <td>Yes</td>\n",
       "      <td>No</td>\n",
       "      <td>DSL</td>\n",
       "      <td>Yes</td>\n",
       "      <td>...</td>\n",
       "      <td>Yes</td>\n",
       "      <td>No</td>\n",
       "      <td>No</td>\n",
       "      <td>No</td>\n",
       "      <td>One year</td>\n",
       "      <td>No</td>\n",
       "      <td>Mailed check</td>\n",
       "      <td>56.95</td>\n",
       "      <td>1889.5</td>\n",
       "      <td>No</td>\n",
       "    </tr>\n",
       "    <tr>\n",
       "      <th>2</th>\n",
       "      <td>3668-QPYBK</td>\n",
       "      <td>Male</td>\n",
       "      <td>0</td>\n",
       "      <td>No</td>\n",
       "      <td>No</td>\n",
       "      <td>2</td>\n",
       "      <td>Yes</td>\n",
       "      <td>No</td>\n",
       "      <td>DSL</td>\n",
       "      <td>Yes</td>\n",
       "      <td>...</td>\n",
       "      <td>No</td>\n",
       "      <td>No</td>\n",
       "      <td>No</td>\n",
       "      <td>No</td>\n",
       "      <td>Month-to-month</td>\n",
       "      <td>Yes</td>\n",
       "      <td>Mailed check</td>\n",
       "      <td>53.85</td>\n",
       "      <td>108.15</td>\n",
       "      <td>Yes</td>\n",
       "    </tr>\n",
       "    <tr>\n",
       "      <th>3</th>\n",
       "      <td>7795-CFOCW</td>\n",
       "      <td>Male</td>\n",
       "      <td>0</td>\n",
       "      <td>No</td>\n",
       "      <td>No</td>\n",
       "      <td>45</td>\n",
       "      <td>No</td>\n",
       "      <td>No phone service</td>\n",
       "      <td>DSL</td>\n",
       "      <td>Yes</td>\n",
       "      <td>...</td>\n",
       "      <td>Yes</td>\n",
       "      <td>Yes</td>\n",
       "      <td>No</td>\n",
       "      <td>No</td>\n",
       "      <td>One year</td>\n",
       "      <td>No</td>\n",
       "      <td>Bank transfer (automatic)</td>\n",
       "      <td>42.30</td>\n",
       "      <td>1840.75</td>\n",
       "      <td>No</td>\n",
       "    </tr>\n",
       "    <tr>\n",
       "      <th>4</th>\n",
       "      <td>9237-HQITU</td>\n",
       "      <td>Female</td>\n",
       "      <td>0</td>\n",
       "      <td>No</td>\n",
       "      <td>No</td>\n",
       "      <td>2</td>\n",
       "      <td>Yes</td>\n",
       "      <td>No</td>\n",
       "      <td>Fiber optic</td>\n",
       "      <td>No</td>\n",
       "      <td>...</td>\n",
       "      <td>No</td>\n",
       "      <td>No</td>\n",
       "      <td>No</td>\n",
       "      <td>No</td>\n",
       "      <td>Month-to-month</td>\n",
       "      <td>Yes</td>\n",
       "      <td>Electronic check</td>\n",
       "      <td>70.70</td>\n",
       "      <td>151.65</td>\n",
       "      <td>Yes</td>\n",
       "    </tr>\n",
       "  </tbody>\n",
       "</table>\n",
       "<p>5 rows × 21 columns</p>\n",
       "</div>"
      ],
      "text/plain": [
       "   customerID  gender  SeniorCitizen Partner Dependents  tenure PhoneService  \\\n",
       "0  7590-VHVEG  Female              0     Yes         No       1           No   \n",
       "1  5575-GNVDE    Male              0      No         No      34          Yes   \n",
       "2  3668-QPYBK    Male              0      No         No       2          Yes   \n",
       "3  7795-CFOCW    Male              0      No         No      45           No   \n",
       "4  9237-HQITU  Female              0      No         No       2          Yes   \n",
       "\n",
       "      MultipleLines InternetService OnlineSecurity  ... DeviceProtection  \\\n",
       "0  No phone service             DSL             No  ...               No   \n",
       "1                No             DSL            Yes  ...              Yes   \n",
       "2                No             DSL            Yes  ...               No   \n",
       "3  No phone service             DSL            Yes  ...              Yes   \n",
       "4                No     Fiber optic             No  ...               No   \n",
       "\n",
       "  TechSupport StreamingTV StreamingMovies        Contract PaperlessBilling  \\\n",
       "0          No          No              No  Month-to-month              Yes   \n",
       "1          No          No              No        One year               No   \n",
       "2          No          No              No  Month-to-month              Yes   \n",
       "3         Yes          No              No        One year               No   \n",
       "4          No          No              No  Month-to-month              Yes   \n",
       "\n",
       "               PaymentMethod MonthlyCharges  TotalCharges Churn  \n",
       "0           Electronic check          29.85         29.85    No  \n",
       "1               Mailed check          56.95        1889.5    No  \n",
       "2               Mailed check          53.85        108.15   Yes  \n",
       "3  Bank transfer (automatic)          42.30       1840.75    No  \n",
       "4           Electronic check          70.70        151.65   Yes  \n",
       "\n",
       "[5 rows x 21 columns]"
      ]
     },
     "execution_count": 9,
     "metadata": {},
     "output_type": "execute_result"
    }
   ],
   "source": [
    "df.head()"
   ]
  },
  {
   "cell_type": "code",
   "execution_count": 10,
   "id": "da7b43dc",
   "metadata": {},
   "outputs": [
    {
     "data": {
      "text/plain": [
       "0"
      ]
     },
     "execution_count": 10,
     "metadata": {},
     "output_type": "execute_result"
    }
   ],
   "source": [
    "# Check duplication in data\n",
    "df.duplicated().sum()"
   ]
  },
  {
   "cell_type": "code",
   "execution_count": 11,
   "id": "fbc4f8fd",
   "metadata": {},
   "outputs": [
    {
     "data": {
      "text/plain": [
       "0"
      ]
     },
     "execution_count": 11,
     "metadata": {},
     "output_type": "execute_result"
    }
   ],
   "source": [
    "# Check null values\n",
    "df.isnull().sum().sum()"
   ]
  },
  {
   "cell_type": "code",
   "execution_count": 12,
   "id": "424d6300",
   "metadata": {},
   "outputs": [
    {
     "name": "stdout",
     "output_type": "stream",
     "text": [
      "<class 'pandas.core.frame.DataFrame'>\n",
      "RangeIndex: 7043 entries, 0 to 7042\n",
      "Data columns (total 21 columns):\n",
      " #   Column            Non-Null Count  Dtype  \n",
      "---  ------            --------------  -----  \n",
      " 0   customerID        7043 non-null   object \n",
      " 1   gender            7043 non-null   object \n",
      " 2   SeniorCitizen     7043 non-null   int64  \n",
      " 3   Partner           7043 non-null   object \n",
      " 4   Dependents        7043 non-null   object \n",
      " 5   tenure            7043 non-null   int64  \n",
      " 6   PhoneService      7043 non-null   object \n",
      " 7   MultipleLines     7043 non-null   object \n",
      " 8   InternetService   7043 non-null   object \n",
      " 9   OnlineSecurity    7043 non-null   object \n",
      " 10  OnlineBackup      7043 non-null   object \n",
      " 11  DeviceProtection  7043 non-null   object \n",
      " 12  TechSupport       7043 non-null   object \n",
      " 13  StreamingTV       7043 non-null   object \n",
      " 14  StreamingMovies   7043 non-null   object \n",
      " 15  Contract          7043 non-null   object \n",
      " 16  PaperlessBilling  7043 non-null   object \n",
      " 17  PaymentMethod     7043 non-null   object \n",
      " 18  MonthlyCharges    7043 non-null   float64\n",
      " 19  TotalCharges      7043 non-null   object \n",
      " 20  Churn             7043 non-null   object \n",
      "dtypes: float64(1), int64(2), object(18)\n",
      "memory usage: 1.1+ MB\n"
     ]
    }
   ],
   "source": [
    "# Check data types for each column ## Total charges type should be float and not object\n",
    "df.info()"
   ]
  },
  {
   "cell_type": "code",
   "execution_count": 13,
   "id": "78e412a7",
   "metadata": {},
   "outputs": [
    {
     "data": {
      "text/plain": [
       "0945-TSONX    1\n",
       "8149-RSOUN    1\n",
       "8931-GJJIQ    1\n",
       "8909-BOLNL    1\n",
       "8092-NLTGF    1\n",
       "             ..\n",
       "5117-IFGPS    1\n",
       "1307-ATKGB    1\n",
       "3389-YGYAI    1\n",
       "6603-YRDCJ    1\n",
       "6527-PZFPV    1\n",
       "Name: customerID, Length: 7043, dtype: int64"
      ]
     },
     "execution_count": 13,
     "metadata": {},
     "output_type": "execute_result"
    }
   ],
   "source": [
    "# Check values consistancy\n",
    "df.customerID.value_counts()"
   ]
  },
  {
   "cell_type": "code",
   "execution_count": 14,
   "id": "c5abcc83",
   "metadata": {},
   "outputs": [
    {
     "data": {
      "text/plain": [
       "Male      3555\n",
       "Female    3488\n",
       "Name: gender, dtype: int64"
      ]
     },
     "execution_count": 14,
     "metadata": {},
     "output_type": "execute_result"
    }
   ],
   "source": [
    "# Check values consistancy\n",
    "df.gender.value_counts()"
   ]
  },
  {
   "cell_type": "code",
   "execution_count": 15,
   "id": "3c4b62ce",
   "metadata": {},
   "outputs": [
    {
     "data": {
      "text/plain": [
       "customerID          7043\n",
       "gender                 2\n",
       "SeniorCitizen          2\n",
       "Partner                2\n",
       "Dependents             2\n",
       "tenure                73\n",
       "PhoneService           2\n",
       "MultipleLines          3\n",
       "InternetService        3\n",
       "OnlineSecurity         3\n",
       "OnlineBackup           3\n",
       "DeviceProtection       3\n",
       "TechSupport            3\n",
       "StreamingTV            3\n",
       "StreamingMovies        3\n",
       "Contract               3\n",
       "PaperlessBilling       2\n",
       "PaymentMethod          4\n",
       "MonthlyCharges      1585\n",
       "TotalCharges        6531\n",
       "Churn                  2\n",
       "dtype: int64"
      ]
     },
     "execution_count": 15,
     "metadata": {},
     "output_type": "execute_result"
    }
   ],
   "source": [
    "# Check no of unique values per column\n",
    "df.nunique()"
   ]
  },
  {
   "cell_type": "code",
   "execution_count": 16,
   "id": "08151e75",
   "metadata": {},
   "outputs": [
    {
     "data": {
      "text/plain": [
       "No                  3390\n",
       "Yes                 2971\n",
       "No phone service     682\n",
       "Name: MultipleLines, dtype: int64"
      ]
     },
     "execution_count": 16,
     "metadata": {},
     "output_type": "execute_result"
    }
   ],
   "source": [
    "# Check values consistancy\n",
    "df.MultipleLines.value_counts()"
   ]
  },
  {
   "cell_type": "code",
   "execution_count": 17,
   "id": "6beaea28",
   "metadata": {},
   "outputs": [
    {
     "data": {
      "text/plain": [
       "Fiber optic    3096\n",
       "DSL            2421\n",
       "No             1526\n",
       "Name: InternetService, dtype: int64"
      ]
     },
     "execution_count": 17,
     "metadata": {},
     "output_type": "execute_result"
    }
   ],
   "source": [
    "# Check values consistancy\n",
    "df.InternetService.value_counts()"
   ]
  },
  {
   "cell_type": "code",
   "execution_count": 18,
   "id": "184e70dc",
   "metadata": {},
   "outputs": [
    {
     "data": {
      "text/plain": [
       "No                     3498\n",
       "Yes                    2019\n",
       "No internet service    1526\n",
       "Name: OnlineSecurity, dtype: int64"
      ]
     },
     "execution_count": 18,
     "metadata": {},
     "output_type": "execute_result"
    }
   ],
   "source": [
    "# Check values consistancy\n",
    "df.OnlineSecurity.value_counts()"
   ]
  },
  {
   "cell_type": "code",
   "execution_count": 19,
   "id": "a33041b4",
   "metadata": {},
   "outputs": [
    {
     "data": {
      "text/plain": [
       "No                     3088\n",
       "Yes                    2429\n",
       "No internet service    1526\n",
       "Name: OnlineBackup, dtype: int64"
      ]
     },
     "execution_count": 19,
     "metadata": {},
     "output_type": "execute_result"
    }
   ],
   "source": [
    "# Check values consistancy\n",
    "df.OnlineBackup.value_counts()"
   ]
  },
  {
   "cell_type": "code",
   "execution_count": 20,
   "id": "b4f41da0",
   "metadata": {},
   "outputs": [
    {
     "data": {
      "text/plain": [
       "No                     3095\n",
       "Yes                    2422\n",
       "No internet service    1526\n",
       "Name: DeviceProtection, dtype: int64"
      ]
     },
     "execution_count": 20,
     "metadata": {},
     "output_type": "execute_result"
    }
   ],
   "source": [
    "# Check values consistancy\n",
    "df.DeviceProtection.value_counts()"
   ]
  },
  {
   "cell_type": "code",
   "execution_count": 21,
   "id": "7ab6eb83",
   "metadata": {},
   "outputs": [
    {
     "data": {
      "text/plain": [
       "No                     3473\n",
       "Yes                    2044\n",
       "No internet service    1526\n",
       "Name: TechSupport, dtype: int64"
      ]
     },
     "execution_count": 21,
     "metadata": {},
     "output_type": "execute_result"
    }
   ],
   "source": [
    "# Check values consistancy\n",
    "df.TechSupport.value_counts()"
   ]
  },
  {
   "cell_type": "code",
   "execution_count": 23,
   "id": "278ee211",
   "metadata": {},
   "outputs": [
    {
     "data": {
      "text/plain": [
       "Month-to-month    3875\n",
       "Two year          1695\n",
       "One year          1473\n",
       "Name: Contract, dtype: int64"
      ]
     },
     "execution_count": 23,
     "metadata": {},
     "output_type": "execute_result"
    }
   ],
   "source": [
    "# Check values consistancy\n",
    "df.Contract.value_counts()"
   ]
  },
  {
   "cell_type": "code",
   "execution_count": 24,
   "id": "1d543501",
   "metadata": {},
   "outputs": [
    {
     "data": {
      "text/plain": [
       "Electronic check             2365\n",
       "Mailed check                 1612\n",
       "Bank transfer (automatic)    1544\n",
       "Credit card (automatic)      1522\n",
       "Name: PaymentMethod, dtype: int64"
      ]
     },
     "execution_count": 24,
     "metadata": {},
     "output_type": "execute_result"
    }
   ],
   "source": [
    "# Check values consistancy\n",
    "df.PaymentMethod.value_counts()"
   ]
  },
  {
   "cell_type": "code",
   "execution_count": 26,
   "id": "128c8593",
   "metadata": {},
   "outputs": [
    {
     "data": {
      "text/html": [
       "<div>\n",
       "<style scoped>\n",
       "    .dataframe tbody tr th:only-of-type {\n",
       "        vertical-align: middle;\n",
       "    }\n",
       "\n",
       "    .dataframe tbody tr th {\n",
       "        vertical-align: top;\n",
       "    }\n",
       "\n",
       "    .dataframe thead th {\n",
       "        text-align: right;\n",
       "    }\n",
       "</style>\n",
       "<table border=\"1\" class=\"dataframe\">\n",
       "  <thead>\n",
       "    <tr style=\"text-align: right;\">\n",
       "      <th></th>\n",
       "      <th>customerID</th>\n",
       "      <th>gender</th>\n",
       "      <th>SeniorCitizen</th>\n",
       "      <th>Partner</th>\n",
       "      <th>Dependents</th>\n",
       "      <th>tenure</th>\n",
       "      <th>PhoneService</th>\n",
       "      <th>MultipleLines</th>\n",
       "      <th>InternetService</th>\n",
       "      <th>OnlineSecurity</th>\n",
       "      <th>...</th>\n",
       "      <th>DeviceProtection</th>\n",
       "      <th>TechSupport</th>\n",
       "      <th>StreamingTV</th>\n",
       "      <th>StreamingMovies</th>\n",
       "      <th>Contract</th>\n",
       "      <th>PaperlessBilling</th>\n",
       "      <th>PaymentMethod</th>\n",
       "      <th>MonthlyCharges</th>\n",
       "      <th>TotalCharges</th>\n",
       "      <th>Churn</th>\n",
       "    </tr>\n",
       "  </thead>\n",
       "  <tbody>\n",
       "    <tr>\n",
       "      <th>488</th>\n",
       "      <td>4472-LVYGI</td>\n",
       "      <td>Female</td>\n",
       "      <td>0</td>\n",
       "      <td>Yes</td>\n",
       "      <td>Yes</td>\n",
       "      <td>0</td>\n",
       "      <td>No</td>\n",
       "      <td>No phone service</td>\n",
       "      <td>DSL</td>\n",
       "      <td>Yes</td>\n",
       "      <td>...</td>\n",
       "      <td>Yes</td>\n",
       "      <td>Yes</td>\n",
       "      <td>Yes</td>\n",
       "      <td>No</td>\n",
       "      <td>Two year</td>\n",
       "      <td>Yes</td>\n",
       "      <td>Bank transfer (automatic)</td>\n",
       "      <td>52.55</td>\n",
       "      <td></td>\n",
       "      <td>No</td>\n",
       "    </tr>\n",
       "    <tr>\n",
       "      <th>753</th>\n",
       "      <td>3115-CZMZD</td>\n",
       "      <td>Male</td>\n",
       "      <td>0</td>\n",
       "      <td>No</td>\n",
       "      <td>Yes</td>\n",
       "      <td>0</td>\n",
       "      <td>Yes</td>\n",
       "      <td>No</td>\n",
       "      <td>No</td>\n",
       "      <td>No internet service</td>\n",
       "      <td>...</td>\n",
       "      <td>No internet service</td>\n",
       "      <td>No internet service</td>\n",
       "      <td>No internet service</td>\n",
       "      <td>No internet service</td>\n",
       "      <td>Two year</td>\n",
       "      <td>No</td>\n",
       "      <td>Mailed check</td>\n",
       "      <td>20.25</td>\n",
       "      <td></td>\n",
       "      <td>No</td>\n",
       "    </tr>\n",
       "    <tr>\n",
       "      <th>936</th>\n",
       "      <td>5709-LVOEQ</td>\n",
       "      <td>Female</td>\n",
       "      <td>0</td>\n",
       "      <td>Yes</td>\n",
       "      <td>Yes</td>\n",
       "      <td>0</td>\n",
       "      <td>Yes</td>\n",
       "      <td>No</td>\n",
       "      <td>DSL</td>\n",
       "      <td>Yes</td>\n",
       "      <td>...</td>\n",
       "      <td>Yes</td>\n",
       "      <td>No</td>\n",
       "      <td>Yes</td>\n",
       "      <td>Yes</td>\n",
       "      <td>Two year</td>\n",
       "      <td>No</td>\n",
       "      <td>Mailed check</td>\n",
       "      <td>80.85</td>\n",
       "      <td></td>\n",
       "      <td>No</td>\n",
       "    </tr>\n",
       "    <tr>\n",
       "      <th>1082</th>\n",
       "      <td>4367-NUYAO</td>\n",
       "      <td>Male</td>\n",
       "      <td>0</td>\n",
       "      <td>Yes</td>\n",
       "      <td>Yes</td>\n",
       "      <td>0</td>\n",
       "      <td>Yes</td>\n",
       "      <td>Yes</td>\n",
       "      <td>No</td>\n",
       "      <td>No internet service</td>\n",
       "      <td>...</td>\n",
       "      <td>No internet service</td>\n",
       "      <td>No internet service</td>\n",
       "      <td>No internet service</td>\n",
       "      <td>No internet service</td>\n",
       "      <td>Two year</td>\n",
       "      <td>No</td>\n",
       "      <td>Mailed check</td>\n",
       "      <td>25.75</td>\n",
       "      <td></td>\n",
       "      <td>No</td>\n",
       "    </tr>\n",
       "    <tr>\n",
       "      <th>1340</th>\n",
       "      <td>1371-DWPAZ</td>\n",
       "      <td>Female</td>\n",
       "      <td>0</td>\n",
       "      <td>Yes</td>\n",
       "      <td>Yes</td>\n",
       "      <td>0</td>\n",
       "      <td>No</td>\n",
       "      <td>No phone service</td>\n",
       "      <td>DSL</td>\n",
       "      <td>Yes</td>\n",
       "      <td>...</td>\n",
       "      <td>Yes</td>\n",
       "      <td>Yes</td>\n",
       "      <td>Yes</td>\n",
       "      <td>No</td>\n",
       "      <td>Two year</td>\n",
       "      <td>No</td>\n",
       "      <td>Credit card (automatic)</td>\n",
       "      <td>56.05</td>\n",
       "      <td></td>\n",
       "      <td>No</td>\n",
       "    </tr>\n",
       "    <tr>\n",
       "      <th>3331</th>\n",
       "      <td>7644-OMVMY</td>\n",
       "      <td>Male</td>\n",
       "      <td>0</td>\n",
       "      <td>Yes</td>\n",
       "      <td>Yes</td>\n",
       "      <td>0</td>\n",
       "      <td>Yes</td>\n",
       "      <td>No</td>\n",
       "      <td>No</td>\n",
       "      <td>No internet service</td>\n",
       "      <td>...</td>\n",
       "      <td>No internet service</td>\n",
       "      <td>No internet service</td>\n",
       "      <td>No internet service</td>\n",
       "      <td>No internet service</td>\n",
       "      <td>Two year</td>\n",
       "      <td>No</td>\n",
       "      <td>Mailed check</td>\n",
       "      <td>19.85</td>\n",
       "      <td></td>\n",
       "      <td>No</td>\n",
       "    </tr>\n",
       "    <tr>\n",
       "      <th>3826</th>\n",
       "      <td>3213-VVOLG</td>\n",
       "      <td>Male</td>\n",
       "      <td>0</td>\n",
       "      <td>Yes</td>\n",
       "      <td>Yes</td>\n",
       "      <td>0</td>\n",
       "      <td>Yes</td>\n",
       "      <td>Yes</td>\n",
       "      <td>No</td>\n",
       "      <td>No internet service</td>\n",
       "      <td>...</td>\n",
       "      <td>No internet service</td>\n",
       "      <td>No internet service</td>\n",
       "      <td>No internet service</td>\n",
       "      <td>No internet service</td>\n",
       "      <td>Two year</td>\n",
       "      <td>No</td>\n",
       "      <td>Mailed check</td>\n",
       "      <td>25.35</td>\n",
       "      <td></td>\n",
       "      <td>No</td>\n",
       "    </tr>\n",
       "    <tr>\n",
       "      <th>4380</th>\n",
       "      <td>2520-SGTTA</td>\n",
       "      <td>Female</td>\n",
       "      <td>0</td>\n",
       "      <td>Yes</td>\n",
       "      <td>Yes</td>\n",
       "      <td>0</td>\n",
       "      <td>Yes</td>\n",
       "      <td>No</td>\n",
       "      <td>No</td>\n",
       "      <td>No internet service</td>\n",
       "      <td>...</td>\n",
       "      <td>No internet service</td>\n",
       "      <td>No internet service</td>\n",
       "      <td>No internet service</td>\n",
       "      <td>No internet service</td>\n",
       "      <td>Two year</td>\n",
       "      <td>No</td>\n",
       "      <td>Mailed check</td>\n",
       "      <td>20.00</td>\n",
       "      <td></td>\n",
       "      <td>No</td>\n",
       "    </tr>\n",
       "    <tr>\n",
       "      <th>5218</th>\n",
       "      <td>2923-ARZLG</td>\n",
       "      <td>Male</td>\n",
       "      <td>0</td>\n",
       "      <td>Yes</td>\n",
       "      <td>Yes</td>\n",
       "      <td>0</td>\n",
       "      <td>Yes</td>\n",
       "      <td>No</td>\n",
       "      <td>No</td>\n",
       "      <td>No internet service</td>\n",
       "      <td>...</td>\n",
       "      <td>No internet service</td>\n",
       "      <td>No internet service</td>\n",
       "      <td>No internet service</td>\n",
       "      <td>No internet service</td>\n",
       "      <td>One year</td>\n",
       "      <td>Yes</td>\n",
       "      <td>Mailed check</td>\n",
       "      <td>19.70</td>\n",
       "      <td></td>\n",
       "      <td>No</td>\n",
       "    </tr>\n",
       "    <tr>\n",
       "      <th>6670</th>\n",
       "      <td>4075-WKNIU</td>\n",
       "      <td>Female</td>\n",
       "      <td>0</td>\n",
       "      <td>Yes</td>\n",
       "      <td>Yes</td>\n",
       "      <td>0</td>\n",
       "      <td>Yes</td>\n",
       "      <td>Yes</td>\n",
       "      <td>DSL</td>\n",
       "      <td>No</td>\n",
       "      <td>...</td>\n",
       "      <td>Yes</td>\n",
       "      <td>Yes</td>\n",
       "      <td>Yes</td>\n",
       "      <td>No</td>\n",
       "      <td>Two year</td>\n",
       "      <td>No</td>\n",
       "      <td>Mailed check</td>\n",
       "      <td>73.35</td>\n",
       "      <td></td>\n",
       "      <td>No</td>\n",
       "    </tr>\n",
       "    <tr>\n",
       "      <th>6754</th>\n",
       "      <td>2775-SEFEE</td>\n",
       "      <td>Male</td>\n",
       "      <td>0</td>\n",
       "      <td>No</td>\n",
       "      <td>Yes</td>\n",
       "      <td>0</td>\n",
       "      <td>Yes</td>\n",
       "      <td>Yes</td>\n",
       "      <td>DSL</td>\n",
       "      <td>Yes</td>\n",
       "      <td>...</td>\n",
       "      <td>No</td>\n",
       "      <td>Yes</td>\n",
       "      <td>No</td>\n",
       "      <td>No</td>\n",
       "      <td>Two year</td>\n",
       "      <td>Yes</td>\n",
       "      <td>Bank transfer (automatic)</td>\n",
       "      <td>61.90</td>\n",
       "      <td></td>\n",
       "      <td>No</td>\n",
       "    </tr>\n",
       "  </tbody>\n",
       "</table>\n",
       "<p>11 rows × 21 columns</p>\n",
       "</div>"
      ],
      "text/plain": [
       "      customerID  gender  SeniorCitizen Partner Dependents  tenure  \\\n",
       "488   4472-LVYGI  Female              0     Yes        Yes       0   \n",
       "753   3115-CZMZD    Male              0      No        Yes       0   \n",
       "936   5709-LVOEQ  Female              0     Yes        Yes       0   \n",
       "1082  4367-NUYAO    Male              0     Yes        Yes       0   \n",
       "1340  1371-DWPAZ  Female              0     Yes        Yes       0   \n",
       "3331  7644-OMVMY    Male              0     Yes        Yes       0   \n",
       "3826  3213-VVOLG    Male              0     Yes        Yes       0   \n",
       "4380  2520-SGTTA  Female              0     Yes        Yes       0   \n",
       "5218  2923-ARZLG    Male              0     Yes        Yes       0   \n",
       "6670  4075-WKNIU  Female              0     Yes        Yes       0   \n",
       "6754  2775-SEFEE    Male              0      No        Yes       0   \n",
       "\n",
       "     PhoneService     MultipleLines InternetService       OnlineSecurity  ...  \\\n",
       "488            No  No phone service             DSL                  Yes  ...   \n",
       "753           Yes                No              No  No internet service  ...   \n",
       "936           Yes                No             DSL                  Yes  ...   \n",
       "1082          Yes               Yes              No  No internet service  ...   \n",
       "1340           No  No phone service             DSL                  Yes  ...   \n",
       "3331          Yes                No              No  No internet service  ...   \n",
       "3826          Yes               Yes              No  No internet service  ...   \n",
       "4380          Yes                No              No  No internet service  ...   \n",
       "5218          Yes                No              No  No internet service  ...   \n",
       "6670          Yes               Yes             DSL                   No  ...   \n",
       "6754          Yes               Yes             DSL                  Yes  ...   \n",
       "\n",
       "         DeviceProtection          TechSupport          StreamingTV  \\\n",
       "488                   Yes                  Yes                  Yes   \n",
       "753   No internet service  No internet service  No internet service   \n",
       "936                   Yes                   No                  Yes   \n",
       "1082  No internet service  No internet service  No internet service   \n",
       "1340                  Yes                  Yes                  Yes   \n",
       "3331  No internet service  No internet service  No internet service   \n",
       "3826  No internet service  No internet service  No internet service   \n",
       "4380  No internet service  No internet service  No internet service   \n",
       "5218  No internet service  No internet service  No internet service   \n",
       "6670                  Yes                  Yes                  Yes   \n",
       "6754                   No                  Yes                   No   \n",
       "\n",
       "          StreamingMovies  Contract PaperlessBilling  \\\n",
       "488                    No  Two year              Yes   \n",
       "753   No internet service  Two year               No   \n",
       "936                   Yes  Two year               No   \n",
       "1082  No internet service  Two year               No   \n",
       "1340                   No  Two year               No   \n",
       "3331  No internet service  Two year               No   \n",
       "3826  No internet service  Two year               No   \n",
       "4380  No internet service  Two year               No   \n",
       "5218  No internet service  One year              Yes   \n",
       "6670                   No  Two year               No   \n",
       "6754                   No  Two year              Yes   \n",
       "\n",
       "                  PaymentMethod MonthlyCharges  TotalCharges Churn  \n",
       "488   Bank transfer (automatic)          52.55                  No  \n",
       "753                Mailed check          20.25                  No  \n",
       "936                Mailed check          80.85                  No  \n",
       "1082               Mailed check          25.75                  No  \n",
       "1340    Credit card (automatic)          56.05                  No  \n",
       "3331               Mailed check          19.85                  No  \n",
       "3826               Mailed check          25.35                  No  \n",
       "4380               Mailed check          20.00                  No  \n",
       "5218               Mailed check          19.70                  No  \n",
       "6670               Mailed check          73.35                  No  \n",
       "6754  Bank transfer (automatic)          61.90                  No  \n",
       "\n",
       "[11 rows x 21 columns]"
      ]
     },
     "execution_count": 26,
     "metadata": {},
     "output_type": "execute_result"
    }
   ],
   "source": [
    "# Check values with space \" \" in TotalCharges\n",
    "df.query('TotalCharges == \" \"')"
   ]
  },
  {
   "cell_type": "code",
   "execution_count": 27,
   "id": "dd725711",
   "metadata": {},
   "outputs": [],
   "source": [
    "# drop rows with TotalCharges equal to \" \"\n",
    "df.drop(inplace=True, axis=0, index=df.query('TotalCharges == \" \"').index)"
   ]
  },
  {
   "cell_type": "code",
   "execution_count": 28,
   "id": "374203e3",
   "metadata": {},
   "outputs": [
    {
     "data": {
      "text/html": [
       "<div>\n",
       "<style scoped>\n",
       "    .dataframe tbody tr th:only-of-type {\n",
       "        vertical-align: middle;\n",
       "    }\n",
       "\n",
       "    .dataframe tbody tr th {\n",
       "        vertical-align: top;\n",
       "    }\n",
       "\n",
       "    .dataframe thead th {\n",
       "        text-align: right;\n",
       "    }\n",
       "</style>\n",
       "<table border=\"1\" class=\"dataframe\">\n",
       "  <thead>\n",
       "    <tr style=\"text-align: right;\">\n",
       "      <th></th>\n",
       "      <th>customerID</th>\n",
       "      <th>gender</th>\n",
       "      <th>SeniorCitizen</th>\n",
       "      <th>Partner</th>\n",
       "      <th>Dependents</th>\n",
       "      <th>tenure</th>\n",
       "      <th>PhoneService</th>\n",
       "      <th>MultipleLines</th>\n",
       "      <th>InternetService</th>\n",
       "      <th>OnlineSecurity</th>\n",
       "      <th>...</th>\n",
       "      <th>DeviceProtection</th>\n",
       "      <th>TechSupport</th>\n",
       "      <th>StreamingTV</th>\n",
       "      <th>StreamingMovies</th>\n",
       "      <th>Contract</th>\n",
       "      <th>PaperlessBilling</th>\n",
       "      <th>PaymentMethod</th>\n",
       "      <th>MonthlyCharges</th>\n",
       "      <th>TotalCharges</th>\n",
       "      <th>Churn</th>\n",
       "    </tr>\n",
       "  </thead>\n",
       "  <tbody>\n",
       "  </tbody>\n",
       "</table>\n",
       "<p>0 rows × 21 columns</p>\n",
       "</div>"
      ],
      "text/plain": [
       "Empty DataFrame\n",
       "Columns: [customerID, gender, SeniorCitizen, Partner, Dependents, tenure, PhoneService, MultipleLines, InternetService, OnlineSecurity, OnlineBackup, DeviceProtection, TechSupport, StreamingTV, StreamingMovies, Contract, PaperlessBilling, PaymentMethod, MonthlyCharges, TotalCharges, Churn]\n",
       "Index: []\n",
       "\n",
       "[0 rows x 21 columns]"
      ]
     },
     "execution_count": 28,
     "metadata": {},
     "output_type": "execute_result"
    }
   ],
   "source": [
    "# Check again \n",
    "df.query('TotalCharges == \" \"')"
   ]
  },
  {
   "cell_type": "code",
   "execution_count": 29,
   "id": "998bb2d6",
   "metadata": {},
   "outputs": [],
   "source": [
    "# Convert TotalCharges to float\n",
    "df['TotalCharges'] = df.TotalCharges.astype(float)"
   ]
  },
  {
   "cell_type": "code",
   "execution_count": 30,
   "id": "44a913ab",
   "metadata": {},
   "outputs": [
    {
     "name": "stdout",
     "output_type": "stream",
     "text": [
      "<class 'pandas.core.frame.DataFrame'>\n",
      "Int64Index: 7032 entries, 0 to 7042\n",
      "Data columns (total 21 columns):\n",
      " #   Column            Non-Null Count  Dtype  \n",
      "---  ------            --------------  -----  \n",
      " 0   customerID        7032 non-null   object \n",
      " 1   gender            7032 non-null   object \n",
      " 2   SeniorCitizen     7032 non-null   int64  \n",
      " 3   Partner           7032 non-null   object \n",
      " 4   Dependents        7032 non-null   object \n",
      " 5   tenure            7032 non-null   int64  \n",
      " 6   PhoneService      7032 non-null   object \n",
      " 7   MultipleLines     7032 non-null   object \n",
      " 8   InternetService   7032 non-null   object \n",
      " 9   OnlineSecurity    7032 non-null   object \n",
      " 10  OnlineBackup      7032 non-null   object \n",
      " 11  DeviceProtection  7032 non-null   object \n",
      " 12  TechSupport       7032 non-null   object \n",
      " 13  StreamingTV       7032 non-null   object \n",
      " 14  StreamingMovies   7032 non-null   object \n",
      " 15  Contract          7032 non-null   object \n",
      " 16  PaperlessBilling  7032 non-null   object \n",
      " 17  PaymentMethod     7032 non-null   object \n",
      " 18  MonthlyCharges    7032 non-null   float64\n",
      " 19  TotalCharges      7032 non-null   float64\n",
      " 20  Churn             7032 non-null   object \n",
      "dtypes: float64(2), int64(2), object(17)\n",
      "memory usage: 1.2+ MB\n"
     ]
    }
   ],
   "source": [
    "# Check types again\n",
    "df.info()"
   ]
  },
  {
   "cell_type": "markdown",
   "id": "ddeb541d",
   "metadata": {},
   "source": [
    "**The data is clean:**\n",
    "* No duplicated rows\n",
    "* No NaN values\n",
    "* Empty values (space) found in Totalcharges and corresponding rows have been dropped.\n",
    "* Convert TotalCharges from object to float"
   ]
  },
  {
   "cell_type": "markdown",
   "id": "322a3098",
   "metadata": {},
   "source": [
    "<a id='eda'></a>\n",
    "## Exploratory Data Analysis\n",
    "\n",
    "> Okay!! Now we have reached the core step of our case-study. In this step, we are going to explore our data with different prespectives and methods.  \n",
    "\n",
    "A first step is to construct a ranking with a feature utility Mutual Information metric, a function measuring associations between the features and the target `Churn`. Then we can choose a smaller set of the most useful features to develop initially and have more confidence that your time will be well spent."
   ]
  },
  {
   "cell_type": "code",
   "execution_count": 31,
   "id": "0aca9d52",
   "metadata": {},
   "outputs": [],
   "source": [
    "X = df.copy()\n",
    "\n",
    "\n",
    "# Label encoding for categoricals\n",
    "for colname in X.select_dtypes(\"object\"):\n",
    "    X[colname], _ = X[colname].factorize()\n",
    "\n",
    "y = X.pop(\"Churn\")\n",
    "# All discrete features should now have integer dtypes (double-check this before using MI!)\n",
    "discrete_features = X.dtypes == int"
   ]
  },
  {
   "cell_type": "code",
   "execution_count": 32,
   "id": "e3324d95",
   "metadata": {},
   "outputs": [],
   "source": [
    "from sklearn.feature_selection import mutual_info_regression"
   ]
  },
  {
   "cell_type": "code",
   "execution_count": 33,
   "id": "4b0398a3",
   "metadata": {},
   "outputs": [
    {
     "data": {
      "text/plain": [
       "Contract            0.104570\n",
       "OnlineSecurity      0.074586\n",
       "tenure              0.072401\n",
       "InternetService     0.065042\n",
       "PaymentMethod       0.062629\n",
       "TechSupport         0.061720\n",
       "TotalCharges        0.043398\n",
       "DeviceProtection    0.042104\n",
       "OnlineBackup        0.039914\n",
       "MonthlyCharges      0.038838\n",
       "PaperlessBilling    0.031520\n",
       "StreamingTV         0.028419\n",
       "Partner             0.023313\n",
       "StreamingMovies     0.020031\n",
       "Dependents          0.016958\n",
       "PhoneService        0.014793\n",
       "SeniorCitizen       0.014154\n",
       "MultipleLines       0.007321\n",
       "gender              0.000000\n",
       "customerID          0.000000\n",
       "Name: MI Scores, dtype: float64"
      ]
     },
     "execution_count": 33,
     "metadata": {},
     "output_type": "execute_result"
    }
   ],
   "source": [
    "def make_mi_scores(X, y, discrete_features):\n",
    "    mi_scores = mutual_info_regression(X, y, discrete_features=discrete_features)\n",
    "    mi_scores = pd.Series(mi_scores, name=\"MI Scores\", index=X.columns)\n",
    "    mi_scores = mi_scores.sort_values(ascending=False)\n",
    "    return mi_scores\n",
    "\n",
    "mi_scores = make_mi_scores(X, y, discrete_features)\n",
    "mi_scores  # show the features with their MI scores"
   ]
  },
  {
   "cell_type": "code",
   "execution_count": 34,
   "id": "d7f74bf8",
   "metadata": {},
   "outputs": [
    {
     "data": {
      "image/png": "[encoded data removed]",
      "text/plain": [
       "<Figure size 1500x1000 with 1 Axes>"
      ]
     },
     "metadata": {
      "needs_background": "light"
     },
     "output_type": "display_data"
    }
   ],
   "source": [
    "def plot_mi_scores(scores):\n",
    "    scores = scores.sort_values(ascending=True)\n",
    "    width = np.arange(len(scores))\n",
    "    ticks = list(scores.index)\n",
    "    plt.barh(width, scores)\n",
    "    plt.yticks(width, ticks)\n",
    "    plt.title(\"Mutual Information Scores\")\n",
    "\n",
    "\n",
    "plt.figure(dpi=100, figsize=(15, 10))\n",
    "plot_mi_scores(mi_scores)"
   ]
  },
  {
   "cell_type": "markdown",
   "id": "41cf63fa",
   "metadata": {},
   "source": [
    "From above MI scores, we can identify features with the strongest and weakest corelation towards the target `Churn`"
   ]
  },
  {
   "cell_type": "markdown",
   "id": "f077e547",
   "metadata": {},
   "source": [
    "### A. Conditional Probability"
   ]
  },
  {
   "cell_type": "markdown",
   "id": "a44aae2d",
   "metadata": {},
   "source": [
    "#### 1. Contract types vs Churn"
   ]
  },
  {
   "cell_type": "code",
   "execution_count": 145,
   "id": "a14bb70b",
   "metadata": {},
   "outputs": [
    {
     "data": {
      "text/plain": [
       "[0.4270967741935484, 0.028486646884272996, 0.11277173913043478]"
      ]
     },
     "execution_count": 145,
     "metadata": {},
     "output_type": "execute_result"
    }
   ],
   "source": [
    "# Proportion of subscribers contracted of [Month-to-month, Two year, One year] have a subscription churn\n",
    "cont_values = df.Contract.value_counts().index.tolist()\n",
    "cont_proportion = []\n",
    "for v in cont_values:\n",
    "    cont_proportion.append((df.query('Contract == \"{}\"'.format(v)).Churn == 'Yes').mean())\n",
    "cont_proportion"
   ]
  },
  {
   "cell_type": "code",
   "execution_count": 146,
   "id": "1036908d",
   "metadata": {},
   "outputs": [
    {
     "data": {
      "image/png": "[encoded data removed]",
      "text/plain": [
       "<Figure size 432x288 with 1 Axes>"
      ]
     },
     "metadata": {
      "needs_background": "light"
     },
     "output_type": "display_data"
    }
   ],
   "source": [
    "sns.barplot(x=cont_values, y=cont_proportion, palette='viridis');"
   ]
  },
  {
   "cell_type": "code",
   "execution_count": 147,
   "id": "e76df587",
   "metadata": {},
   "outputs": [
    {
     "data": {
      "text/plain": [
       "[0.5729032258064516, 0.971513353115727, 0.8872282608695652]"
      ]
     },
     "execution_count": 147,
     "metadata": {},
     "output_type": "execute_result"
    }
   ],
   "source": [
    "# Proportion of subscribers with  contracts [Month-to-month, Two year, One year] have no subscription churn\n",
    "cont_values = df.Contract.value_counts().index.tolist()\n",
    "cont_proportion = []\n",
    "for v in cont_values:\n",
    "    cont_proportion.append((df.query('Contract == \"{}\"'.format(v)).Churn == 'No').mean())\n",
    "cont_proportion"
   ]
  },
  {
   "cell_type": "code",
   "execution_count": 148,
   "id": "191ba21f",
   "metadata": {},
   "outputs": [
    {
     "data": {
      "image/png": "[encoded data removed]",
      "text/plain": [
       "<Figure size 432x288 with 1 Axes>"
      ]
     },
     "metadata": {
      "needs_background": "light"
     },
     "output_type": "display_data"
    }
   ],
   "source": [
    "sns.barplot(x=cont_values, y=cont_proportion, palette='viridis');"
   ]
  },
  {
   "cell_type": "markdown",
   "id": "5135e95f",
   "metadata": {},
   "source": [
    "From above and based on the provided sample (Only), we can statistically conclude that subscirbers with Month-to-month has the highest turnover (subscription Churn).  \n",
    "$P(Churn|MonthToMonth \\space contract) = 0.43 $  "
   ]
  },
  {
   "cell_type": "markdown",
   "id": "b3a3f34c",
   "metadata": {},
   "source": [
    "#### 2. OnlineSecurity vs Churn"
   ]
  },
  {
   "cell_type": "code",
   "execution_count": 149,
   "id": "a4a9ed50",
   "metadata": {},
   "outputs": [
    {
     "data": {
      "text/plain": [
       "[0.4177866742922505, 0.14640198511166252, 0.07434210526315789]"
      ]
     },
     "execution_count": 149,
     "metadata": {},
     "output_type": "execute_result"
    }
   ],
   "source": [
    "# Proportion of subscribers who have Online Security as [No, Yes, No internet service] have a subscription churn\n",
    "sec_values = df.OnlineSecurity.value_counts().index.tolist()\n",
    "on_sec_proportion = []\n",
    "for v in sec_values:\n",
    "    on_sec_proportion.append((df.query('OnlineSecurity == \"{}\"'.format(v)).Churn == 'Yes').mean())\n",
    "on_sec_proportion"
   ]
  },
  {
   "cell_type": "code",
   "execution_count": 150,
   "id": "6f872d13",
   "metadata": {},
   "outputs": [
    {
     "data": {
      "image/png": "[encoded data removed]",
      "text/plain": [
       "<Figure size 432x288 with 1 Axes>"
      ]
     },
     "metadata": {
      "needs_background": "light"
     },
     "output_type": "display_data"
    }
   ],
   "source": [
    "sns.barplot(x=sec_values, y=on_sec_proportion, palette='viridis');"
   ]
  },
  {
   "cell_type": "code",
   "execution_count": 151,
   "id": "21a0c8a8",
   "metadata": {},
   "outputs": [
    {
     "data": {
      "text/plain": [
       "[0.5822133257077495, 0.8535980148883374, 0.9256578947368421]"
      ]
     },
     "execution_count": 151,
     "metadata": {},
     "output_type": "execute_result"
    }
   ],
   "source": [
    "# Proportion of subscribers who have Online Security as [No, Yes, No internet service] have no subscription churn\n",
    "sec_values = df.OnlineSecurity.value_counts().index.tolist()\n",
    "on_sec_proportion = []\n",
    "for v in sec_values:\n",
    "    on_sec_proportion.append((df.query('OnlineSecurity == \"{}\"'.format(v)).Churn == 'No').mean())\n",
    "on_sec_proportion"
   ]
  },
  {
   "cell_type": "code",
   "execution_count": 152,
   "id": "7d8c3733",
   "metadata": {},
   "outputs": [
    {
     "data": {
      "image/png": "[encoded data removed]",
      "text/plain": [
       "<Figure size 432x288 with 1 Axes>"
      ]
     },
     "metadata": {
      "needs_background": "light"
     },
     "output_type": "display_data"
    }
   ],
   "source": [
    "sns.barplot(x=sec_values, y=on_sec_proportion, palette='viridis');"
   ]
  },
  {
   "cell_type": "markdown",
   "id": "b738dd39",
   "metadata": {},
   "source": [
    "From above and based on the provided sample (Only), we can statistically conclude that subscirbers with no online security have the highest turnover (subscription Churn).  \n",
    "$P(Churn|No \\space onlinesecurity) = 0.42 $"
   ]
  },
  {
   "cell_type": "markdown",
   "id": "ffad64ca",
   "metadata": {},
   "source": [
    "#### 3. Tenure vs Churn"
   ]
  },
  {
   "cell_type": "code",
   "execution_count": 231,
   "id": "e78d9538",
   "metadata": {},
   "outputs": [
    {
     "data": {
      "text/plain": [
       "1.0"
      ]
     },
     "execution_count": 231,
     "metadata": {},
     "output_type": "execute_result"
    },
    {
     "data": {
      "image/png": "[encoded data removed]",
      "text/plain": [
       "<Figure size 360x360 with 1 Axes>"
      ]
     },
     "metadata": {
      "needs_background": "light"
     },
     "output_type": "display_data"
    }
   ],
   "source": [
    "# Distribution of tenure of subscribers have Churn True\n",
    "sns.displot(df.query('Churn == \"Yes\"')['tenure']);"
   ]
  },
  {
   "cell_type": "code",
   "execution_count": 232,
   "id": "5373a451",
   "metadata": {},
   "outputs": [
    {
     "data": {
      "text/plain": [
       "[0.5008138903960934, 0.18230873000578146]"
      ]
     },
     "execution_count": 232,
     "metadata": {},
     "output_type": "execute_result"
    }
   ],
   "source": [
    "# Proportion of subscribers with tenure less than a specific threshold (eg. tenure sample mean) have a subscription churn\n",
    "tenure_threshold = 9\n",
    "tenure_proportion = []\n",
    "comp = [\"<=\", \">\"]\n",
    "for c in comp:\n",
    "    tenure_proportion.append((df.query('tenure {} {}'.format(c, tenure_threshold)).Churn == 'Yes').mean())\n",
    "tenure_proportion"
   ]
  },
  {
   "cell_type": "code",
   "execution_count": 233,
   "id": "eb74536a",
   "metadata": {},
   "outputs": [
    {
     "data": {
      "image/png": "[encoded data removed]",
      "text/plain": [
       "<Figure size 432x288 with 1 Axes>"
      ]
     },
     "metadata": {
      "needs_background": "light"
     },
     "output_type": "display_data"
    }
   ],
   "source": [
    "sns.barplot(x=[c+str(tenure_threshold) for c in comp], y=tenure_proportion, palette='viridis');"
   ]
  },
  {
   "cell_type": "code",
   "execution_count": 234,
   "id": "27f01c3c",
   "metadata": {},
   "outputs": [
    {
     "data": {
      "text/plain": [
       "[0.4991861096039067, 0.8176912699942186]"
      ]
     },
     "execution_count": 234,
     "metadata": {},
     "output_type": "execute_result"
    }
   ],
   "source": [
    "# Proportion of subscribers with tenure less than a specific threshold (eg. tenure sample mean) have no subscription churn\n",
    "tenure_threshold = 9\n",
    "tenure_proportion = []\n",
    "comp = [\"<=\", \">\"]\n",
    "for c in comp:\n",
    "    tenure_proportion.append((df.query('tenure {} {}'.format(c, tenure_threshold)).Churn == 'No').mean())\n",
    "tenure_proportion"
   ]
  },
  {
   "cell_type": "code",
   "execution_count": 235,
   "id": "4ea9b8d8",
   "metadata": {},
   "outputs": [
    {
     "data": {
      "image/png": "[encoded data removed]",
      "text/plain": [
       "<Figure size 432x288 with 1 Axes>"
      ]
     },
     "metadata": {
      "needs_background": "light"
     },
     "output_type": "display_data"
    }
   ],
   "source": [
    "sns.barplot(x=[c+str(tenure_threshold) for c in comp], y=tenure_proportion, palette='viridis');"
   ]
  },
  {
   "cell_type": "markdown",
   "id": "9ad8eafc",
   "metadata": {},
   "source": [
    "From above, Subscribers with tenure lower than or equal 9 months have an equal probability to leave.  Subscrivers with tenure higher than 9 months are most likely stays.  \n",
    "\n",
    "This is confirming the Contract types conclusion."
   ]
  },
  {
   "cell_type": "markdown",
   "id": "27958a2c",
   "metadata": {},
   "source": [
    "#### 4. Internet Service vs Churn"
   ]
  },
  {
   "cell_type": "code",
   "execution_count": 237,
   "id": "897155a3",
   "metadata": {},
   "outputs": [
    {
     "data": {
      "text/plain": [
       "[0.4189276485788114, 0.18998344370860928, 0.07434210526315789]"
      ]
     },
     "execution_count": 237,
     "metadata": {},
     "output_type": "execute_result"
    }
   ],
   "source": [
    "# Proportion of subscribers with  internet service [Fiber optic, DSL, No] have a subscription churn\n",
    "int_values = df.InternetService.value_counts().index.tolist()\n",
    "int_proportion = []\n",
    "for v in int_values:\n",
    "    int_proportion.append((df.query('InternetService == \"{}\"'.format(v)).Churn == 'Yes').mean())\n",
    "int_proportion"
   ]
  },
  {
   "cell_type": "code",
   "execution_count": 238,
   "id": "4cd2eca0",
   "metadata": {},
   "outputs": [
    {
     "data": {
      "image/png": "[encoded data removed]",
      "text/plain": [
       "<Figure size 432x288 with 1 Axes>"
      ]
     },
     "metadata": {
      "needs_background": "light"
     },
     "output_type": "display_data"
    }
   ],
   "source": [
    "sns.barplot(x=int_values, y=int_proportion, palette='viridis');"
   ]
  },
  {
   "cell_type": "code",
   "execution_count": 239,
   "id": "0714f3b6",
   "metadata": {},
   "outputs": [
    {
     "data": {
      "text/plain": [
       "[0.5810723514211886, 0.8100165562913907, 0.9256578947368421]"
      ]
     },
     "execution_count": 239,
     "metadata": {},
     "output_type": "execute_result"
    }
   ],
   "source": [
    "# Proportion of subscribers with  internet service [Fiber optic, DSL, No] have no subscription churn\n",
    "int_values = df.InternetService.value_counts().index.tolist()\n",
    "int_proportion = []\n",
    "for v in int_values:\n",
    "    int_proportion.append((df.query('InternetService == \"{}\"'.format(v)).Churn == 'No').mean())\n",
    "int_proportion"
   ]
  },
  {
   "cell_type": "code",
   "execution_count": 240,
   "id": "8f435f7a",
   "metadata": {},
   "outputs": [
    {
     "data": {
      "image/png": "[encoded data removed]",
      "text/plain": [
       "<Figure size 432x288 with 1 Axes>"
      ]
     },
     "metadata": {
      "needs_background": "light"
     },
     "output_type": "display_data"
    }
   ],
   "source": [
    "sns.barplot(x=int_values, y=int_proportion, palette='viridis');"
   ]
  },
  {
   "cell_type": "markdown",
   "id": "79fcf750",
   "metadata": {},
   "source": [
    "From above and based on the provided sample (Only), we can statistically conclude that subscirbers with Fiber optic internet service have the highest turnover (subscription Churn).  \n",
    "$P(Churn|Fiber \\space optic) = 0.42 $  "
   ]
  },
  {
   "cell_type": "markdown",
   "id": "31a715b7",
   "metadata": {},
   "source": [
    "#### 5. Payment Method vs Churn"
   ]
  },
  {
   "cell_type": "code",
   "execution_count": 241,
   "id": "a63fceb1",
   "metadata": {},
   "outputs": [
    {
     "data": {
      "text/plain": [
       "[0.4528541226215645,\n",
       " 0.19201995012468828,\n",
       " 0.16731517509727625,\n",
       " 0.1525312294543064]"
      ]
     },
     "execution_count": 241,
     "metadata": {},
     "output_type": "execute_result"
    }
   ],
   "source": [
    "# Proportion of subscribers whose payment method is [Electronic check, Mailed check, Bank transfer, Credit Card] \n",
    "# have a subscription churn\n",
    "pay_values = df.PaymentMethod.value_counts().index.tolist()\n",
    "pay_proportion = []\n",
    "for v in pay_values:\n",
    "    pay_proportion.append((df.query('PaymentMethod == \"{}\"'.format(v)).Churn == 'Yes').mean())\n",
    "pay_proportion"
   ]
  },
  {
   "cell_type": "code",
   "execution_count": 243,
   "id": "dcf7f114",
   "metadata": {},
   "outputs": [
    {
     "data": {
      "image/png": "[encoded data removed]",
      "text/plain": [
       "<Figure size 432x288 with 1 Axes>"
      ]
     },
     "metadata": {
      "needs_background": "light"
     },
     "output_type": "display_data"
    }
   ],
   "source": [
    "sns.barplot(y=pay_values, x=pay_proportion, palette='viridis');"
   ]
  },
  {
   "cell_type": "code",
   "execution_count": 244,
   "id": "84a374f6",
   "metadata": {},
   "outputs": [
    {
     "data": {
      "text/plain": [
       "[0.5471458773784356,\n",
       " 0.8079800498753117,\n",
       " 0.8326848249027238,\n",
       " 0.8474687705456936]"
      ]
     },
     "execution_count": 244,
     "metadata": {},
     "output_type": "execute_result"
    }
   ],
   "source": [
    "# Proportion of subscribers whose payment method is [Electronic check, Mailed check, Bank transfer, Credit Card] \n",
    "# have no subscription churn\n",
    "pay_values = df.PaymentMethod.value_counts().index.tolist()\n",
    "pay_proportion = []\n",
    "for v in pay_values:\n",
    "    pay_proportion.append((df.query('PaymentMethod == \"{}\"'.format(v)).Churn == 'No').mean())\n",
    "pay_proportion"
   ]
  },
  {
   "cell_type": "code",
   "execution_count": 245,
   "id": "36716c89",
   "metadata": {},
   "outputs": [
    {
     "data": {
      "image/png": "[encoded data removed]",
      "text/plain": [
       "<Figure size 432x288 with 1 Axes>"
      ]
     },
     "metadata": {
      "needs_background": "light"
     },
     "output_type": "display_data"
    }
   ],
   "source": [
    "sns.barplot(y=pay_values, x=pay_proportion, palette='viridis');"
   ]
  },
  {
   "cell_type": "markdown",
   "id": "05af97fe",
   "metadata": {},
   "source": [
    "From above and based on the provided sample (Only), we can statistically conclude that subscirbers whose Payment method is \"Electronic check\" have the highest turnover (subscription Churn).  \n",
    "$P(Churn|Electronic \\space check) = 0.45 $"
   ]
  },
  {
   "cell_type": "markdown",
   "id": "acb55ea6",
   "metadata": {},
   "source": [
    "#### 6. TechSupport vs Churn"
   ]
  },
  {
   "cell_type": "code",
   "execution_count": 246,
   "id": "9b6c16c0",
   "metadata": {},
   "outputs": [
    {
     "data": {
      "text/plain": [
       "[0.41647465437788017, 0.15196078431372548, 0.07434210526315789]"
      ]
     },
     "execution_count": 246,
     "metadata": {},
     "output_type": "execute_result"
    }
   ],
   "source": [
    "# Proportion of subscribers without Technical Support have a subscription churn\n",
    "tech_values = df.TechSupport.value_counts().index.tolist()\n",
    "tech_proportion = []\n",
    "for v in tech_values:\n",
    "    tech_proportion.append((df.query('TechSupport == \"{}\"'.format(v)).Churn == 'Yes').mean())\n",
    "tech_proportion"
   ]
  },
  {
   "cell_type": "code",
   "execution_count": 247,
   "id": "76f07d01",
   "metadata": {},
   "outputs": [
    {
     "data": {
      "image/png": "[encoded data removed]",
      "text/plain": [
       "<Figure size 432x288 with 1 Axes>"
      ]
     },
     "metadata": {
      "needs_background": "light"
     },
     "output_type": "display_data"
    }
   ],
   "source": [
    "sns.barplot(x=tech_values, y=tech_proportion, palette='viridis');"
   ]
  },
  {
   "cell_type": "code",
   "execution_count": 248,
   "id": "1a6cac8c",
   "metadata": {},
   "outputs": [
    {
     "data": {
      "text/plain": [
       "[0.5835253456221198, 0.8480392156862745, 0.9256578947368421]"
      ]
     },
     "execution_count": 248,
     "metadata": {},
     "output_type": "execute_result"
    }
   ],
   "source": [
    "# Proportion of subscribers without Technical Support have no subscription churn\n",
    "tech_values = df.TechSupport.value_counts().index.tolist()\n",
    "tech_proportion = []\n",
    "for v in tech_values:\n",
    "    tech_proportion.append((df.query('TechSupport == \"{}\"'.format(v)).Churn == 'No').mean())\n",
    "tech_proportion"
   ]
  },
  {
   "cell_type": "code",
   "execution_count": 249,
   "id": "0d50c018",
   "metadata": {},
   "outputs": [
    {
     "data": {
      "image/png": "[encoded data removed]",
      "text/plain": [
       "<Figure size 432x288 with 1 Axes>"
      ]
     },
     "metadata": {
      "needs_background": "light"
     },
     "output_type": "display_data"
    }
   ],
   "source": [
    "sns.barplot(x=tech_values, y=tech_proportion, palette='viridis');"
   ]
  },
  {
   "cell_type": "markdown",
   "id": "3e146591",
   "metadata": {},
   "source": [
    "From above and based on the provided sample (Only), we can statistically conclude that subscirbers without TechSupport have the highest turnover (subscription Churn).  \n",
    "$P(Churn|TechSupport) = 0.42 $ "
   ]
  },
  {
   "cell_type": "markdown",
   "id": "09d83b18",
   "metadata": {},
   "source": [
    "#### 6. Gender vs Churn\n",
    "\n",
    "Although, the gender comes at the end of MI scores and we are expecting no correlation.  \n",
    "We need to check it out of curiosity :)"
   ]
  },
  {
   "cell_type": "code",
   "execution_count": 250,
   "id": "c585da81",
   "metadata": {},
   "outputs": [
    {
     "data": {
      "text/plain": [
       "[0.26204564666103125, 0.2695951765719208]"
      ]
     },
     "execution_count": 250,
     "metadata": {},
     "output_type": "execute_result"
    }
   ],
   "source": [
    "# Proportion of subscribers by gender have a subscription churn\n",
    "gend_values = df.gender.value_counts().index.tolist()\n",
    "gend_proportion = []\n",
    "for v in gend_values:\n",
    "    gend_proportion.append((df.query('gender == \"{}\"'.format(v)).Churn == 'Yes').mean())\n",
    "gend_proportion"
   ]
  },
  {
   "cell_type": "code",
   "execution_count": 252,
   "id": "de6638f1",
   "metadata": {},
   "outputs": [
    {
     "data": {
      "image/png": "[encoded data removed]",
      "text/plain": [
       "<Figure size 432x288 with 1 Axes>"
      ]
     },
     "metadata": {
      "needs_background": "light"
     },
     "output_type": "display_data"
    }
   ],
   "source": [
    "sns.barplot(x=gend_values, y=gend_proportion, palette='viridis');"
   ]
  },
  {
   "cell_type": "code",
   "execution_count": 253,
   "id": "3f0b4e2d",
   "metadata": {},
   "outputs": [
    {
     "data": {
      "text/plain": [
       "[0.7379543533389687, 0.7304048234280792]"
      ]
     },
     "execution_count": 253,
     "metadata": {},
     "output_type": "execute_result"
    }
   ],
   "source": [
    "# Proportion of subscribers by gender have no subscription churn\n",
    "gend_values = df.gender.value_counts().index.tolist()\n",
    "gend_proportion = []\n",
    "for v in gend_values:\n",
    "    gend_proportion.append((df.query('gender == \"{}\"'.format(v)).Churn == 'No').mean())\n",
    "gend_proportion"
   ]
  },
  {
   "cell_type": "code",
   "execution_count": 254,
   "id": "7da44df9",
   "metadata": {},
   "outputs": [
    {
     "data": {
      "image/png": "[encoded data removed]",
      "text/plain": [
       "<Figure size 432x288 with 1 Axes>"
      ]
     },
     "metadata": {
      "needs_background": "light"
     },
     "output_type": "display_data"
    }
   ],
   "source": [
    "sns.barplot(x=gend_values, y=gend_proportion, palette='viridis');"
   ]
  },
  {
   "cell_type": "markdown",
   "id": "378be0d1",
   "metadata": {},
   "source": [
    "From above and as expected, gender has no influence on Churn rate. Probabilities are almost equal for males and females.  \n",
    "  \n",
    "$P(Churn|Male) \\approx P(Churn|Female) \\approx 0.26 $  \n",
    "$P(\\sim Churn|Male) \\approx P(\\sim Churn|Female) \\approx 0.73 $"
   ]
  },
  {
   "cell_type": "markdown",
   "id": "e39dbdcb",
   "metadata": {},
   "source": [
    "### B. Convidence Interval\n",
    "\n",
    "Creating a CI with a 5% significance for total charges mean ($ \\mu $) of the whole female population"
   ]
  },
  {
   "cell_type": "code",
   "execution_count": 257,
   "id": "6b05742b",
   "metadata": {},
   "outputs": [
    {
     "data": {
      "text/plain": [
       "2283.1909847832326"
      ]
     },
     "execution_count": 257,
     "metadata": {},
     "output_type": "execute_result"
    }
   ],
   "source": [
    "## statistic total charges mean for females in sample provided\n",
    "df[df['gender'] == 'Female']['TotalCharges'].mean()"
   ]
  },
  {
   "cell_type": "code",
   "execution_count": 259,
   "id": "bbd50e27",
   "metadata": {},
   "outputs": [],
   "source": [
    "# bootstraping on the whole sample size\n",
    "means = []\n",
    "for _ in range(10000):\n",
    "    bootstrap = df.sample(df.shape[0], replace=True)\n",
    "    mean = bootstrap[bootstrap['gender'] == 'Female']['TotalCharges'].mean()\n",
    "    means.append(mean)"
   ]
  },
  {
   "cell_type": "code",
   "execution_count": 265,
   "id": "3a3eb1f6",
   "metadata": {},
   "outputs": [],
   "source": [
    "# CI upper and lower limits\n",
    "lower , upper = np.percentile(means, 2.5), np.percentile(means, 97.5)"
   ]
  },
  {
   "cell_type": "code",
   "execution_count": 270,
   "id": "d8cb8800",
   "metadata": {},
   "outputs": [
    {
     "data": {
      "image/png": "[encoded data removed]",
      "text/plain": [
       "<Figure size 360x360 with 1 Axes>"
      ]
     },
     "metadata": {
      "needs_background": "light"
     },
     "output_type": "display_data"
    }
   ],
   "source": [
    "# Plot\n",
    "sns.displot(means, palette='viridis')\n",
    "plt.axvline(x=lower, color='red',linewidth=2)\n",
    "plt.axvline(x=upper, color='red',linewidth=2);"
   ]
  },
  {
   "cell_type": "markdown",
   "id": "85ce17d0",
   "metadata": {},
   "source": [
    "<a id='ref'></a>\n",
    "## References and Addtional information"
   ]
  },
  {
   "cell_type": "markdown",
   "id": "c2ac9817",
   "metadata": {},
   "source": [
    "**Useful links and resources on hypothesis, CI, and P value:**  \n",
    ">  \n",
    "> https://studywell.com/maths/statistics/statistical-hypothesis-testing/hypothesis-testing/\n",
    ">\n",
    "> https://studywell.com/maths/statistics/statistical-hypothesis-testing/conducting-hypothesis-test/\n",
    ">\n",
    "> https://examples.yourdictionary.com/examples-of-hypothesis-testing.html\n",
    ">\n",
    "> https://www2.stat.duke.edu/courses/Fall11/sta10/STA10lecture21.pdf\n",
    ">\n",
    "> https://online.stat.psu.edu/statprogram/reviews/statistical-concepts/hypothesis-testing/examples\n",
    ">\n",
    "> https://www.statisticshowto.com/probability-and-statistics/find-critical-values/\n",
    ">\n",
    "> https://statisticsbyjim.com/hypothesis-testing/p-value-tips-false-positives-misleading-results/\n",
    ">\n",
    "> https://www.youtube.com/watch?v=k1at8VukIbw\n",
    ">\n",
    "\n",
    "**Below a useful link on Simpson's Paradox**\n",
    "\n",
    "> https://link.medium.com/LNaETOTJ3jb"
   ]
  },
  {
   "cell_type": "markdown",
   "id": "1f6dfffa",
   "metadata": {},
   "source": [
    "$\n",
    "“Facts \\space are \\space stubborn\\space things,\\space but \\space statistics \\space are \\space pliable.”  \n",
    "― Mark \\space Twain\n",
    "$"
   ]
  },
  {
   "cell_type": "markdown",
   "id": "05e44bab",
   "metadata": {},
   "source": [
    "https://forms.gle/N1kVoj3vhkGcaxdz6\n"
   ]
  }
 ],
 "metadata": {
  "kernelspec": {
   "display_name": "Python 3",
   "language": "python",
   "name": "python3"
  },
  "language_info": {
   "codemirror_mode": {
    "name": "ipython",
    "version": 3
   },
   "file_extension": ".py",
   "mimetype": "text/x-python",
   "name": "python",
   "nbconvert_exporter": "python",
   "pygments_lexer": "ipython3",
   "version": "3.8.8"
  }
 },
 "nbformat": 4,
 "nbformat_minor": 5
}
